{
 "cells": [
  {
   "cell_type": "code",
   "execution_count": 31,
   "metadata": {},
   "outputs": [],
   "source": [
    "# load dependencies\n",
    "from tensorflow import keras\n",
    "from tensorflow.keras import layers\n",
    "from __future__ import print_function\n",
    "import tensorflow as tf   # Using tensorflow 2.0.0\n",
    "from tensorflow.keras import layers, initializers\n",
    "from tensorflow.keras import backend as K\n",
    "from tensorflow.keras import activations\n",
    "from tensorflow.keras import utils\n",
    "from tensorflow.keras.models import Model\n",
    "from tensorflow.keras.layers import *\n",
    "from tensorflow.keras.preprocessing.image import ImageDataGenerator\n",
    "from tensorflow.keras.applications.vgg16 import VGG16, preprocess_input\n",
    "from tensorflow.keras.optimizers import RMSprop, Adam, SGD, Nadam\n",
    "from tensorflow.keras.preprocessing.image import ImageDataGenerator\n",
    "from tensorflow.keras.callbacks import ReduceLROnPlateau, ModelCheckpoint, EarlyStopping\n",
    "from tensorflow.keras import regularizers\n",
    "from tensorflow.keras.models import Sequential\n",
    "\n",
    "import numpy as np\n",
    "import pandas as pd\n",
    "import matplotlib.pyplot as plt\n",
    "import os\n",
    "\n",
    "IMG_SIZE = 299"
   ]
  },
  {
   "cell_type": "code",
   "execution_count": 32,
   "metadata": {},
   "outputs": [],
   "source": [
    "train_files = 'C:/Users/HP/documents/DATASETS/kagglelung/Data1/train'\n",
    "valid_files = 'C:/Users/HP/documents/DATASETS/kagglelung/Data1/valid'\n",
    "test_files = 'C:/Users/HP/documents/DATASETS/kagglelung/Data1/test'\n"
   ]
  },
  {
   "cell_type": "code",
   "execution_count": 33,
   "metadata": {},
   "outputs": [],
   "source": [
    "# This code block should create an instance of an ImageDataGenerator called datagen \n",
    "def DataGenerator(train_batch, val_batch, IMG_SIZE):\n",
    "    datagen = ImageDataGenerator(preprocessing_function=preprocess_input,\n",
    "                                 rescale=1./255,#rescale factor\n",
    "                                 rotation_range=10,# Degree range for random rotations.\n",
    "                                 horizontal_flip=True,#horizontal flip in images\n",
    "                                 vertical_flip=True)#vertical flip in images\n",
    "\n",
    "    datagen.mean=np.array([103.939, 116.779, 123.68],dtype=np.float32).reshape(1,1,3)\n",
    "\n",
    "    train_gen = datagen.flow_from_directory(train_files,\n",
    "                                            target_size=(IMG_SIZE, IMG_SIZE),\n",
    "                                            color_mode='rgb', \n",
    "                                            class_mode='categorical',\n",
    "                                            batch_size=train_batch)\n",
    "\n",
    "    val_gen = datagen.flow_from_directory(valid_files, \n",
    "                                          target_size=(IMG_SIZE, IMG_SIZE),\n",
    "                                          color_mode='rgb', \n",
    "                                          class_mode='categorical',\n",
    "                                          batch_size=val_batch)\n",
    "\n",
    "    datagen = ImageDataGenerator(preprocessing_function=preprocess_input,\n",
    "                                 rescale=1./255)\n",
    "    \n",
    "    datagen.mean=np.array([103.939, 116.779, 123.68],dtype=np.float32).reshape(1,1,3)\n",
    "\n",
    "    test_gen = datagen.flow_from_directory(test_files, \n",
    "                                           target_size=(IMG_SIZE, IMG_SIZE),\n",
    "                                           color_mode='rgb', \n",
    "                                           class_mode='categorical',\n",
    "                                           shuffle=False)\n",
    "    \n",
    "    return train_gen, val_gen, test_gen"
   ]
  },
  {
   "cell_type": "code",
   "execution_count": 34,
   "metadata": {},
   "outputs": [
    {
     "name": "stdout",
     "output_type": "stream",
     "text": [
      "Found 343 images belonging to 2 classes.\n",
      "Found 36 images belonging to 2 classes.\n",
      "Found 174 images belonging to 2 classes.\n"
     ]
    }
   ],
   "source": [
    "#Generating data for training using Image Generator defined above\n",
    "train_batch = 32\n",
    "val_batch = 1\n",
    "\n",
    "train, val, test = DataGenerator(train_batch, val_batch, IMG_SIZE)"
   ]
  },
  {
   "cell_type": "code",
   "execution_count": 35,
   "metadata": {},
   "outputs": [],
   "source": [
    "# the squashing function.\n",
    "\"\"\"\n",
    "The non-linear activation used in Capsule. It drives the length of a large vector to near 1 and small vector to 0\n",
    ":param vectors: some vectors to be squashed, N-dim tensor\n",
    ":param axis: the axis to squash\n",
    ":return: a Tensor with same shape as input vectors\n",
    "\"\"\"\n",
    "def squash(x, axis=-1):\n",
    "    s_squared_norm = K.sum(K.square(x), axis, keepdims=True) + K.epsilon()\n",
    "    scale = K.sqrt(s_squared_norm) / (0.5 + s_squared_norm)\n",
    "    return scale * x\n"
   ]
  },
  {
   "cell_type": "code",
   "execution_count": 36,
   "metadata": {},
   "outputs": [],
   "source": [
    "# define our own softmax function instead of K.softmax\n",
    "# because K.softmax can not specify axis.\n",
    "def softmax(x, axis=-1):\n",
    "    ex = K.exp(x - K.max(x, axis=axis, keepdims=True))\n",
    "    return ex / K.sum(ex, axis=axis, keepdims=True)"
   ]
  },
  {
   "cell_type": "code",
   "execution_count": 37,
   "metadata": {},
   "outputs": [],
   "source": [
    "def margin_loss(y_true, y_pred):\n",
    "    lamb, margin = 0.5, 0.1 #default lambda 0.5 - but test with lambda with 0.9 - 0.1\n",
    "    return K.sum(y_true * K.square(K.relu(1 - margin - y_pred)) + lamb * (\n",
    "        1 - y_true) * K.square(K.relu(y_pred - margin)), axis=-1)\n"
   ]
  },
  {
   "cell_type": "code",
   "execution_count": 38,
   "metadata": {},
   "outputs": [],
   "source": [
    "def caps_batch_dot(x, y):\n",
    "    x = K.expand_dims(x, 2)\n",
    "    if K.int_shape(x)[3] is not None:\n",
    "        y = K.permute_dimensions(y, (0, 1, 3, 2))\n",
    "    o = tf.matmul(x, y)\n",
    "    return K.squeeze(o, 2)\n",
    "\n",
    "class Capsule(Layer):\n",
    "    \"\"\"\n",
    "    The capsule layer. It is similar to Dense layer. Dense layer has `in_num` inputs, each is a scalar, the output of the \n",
    "    neuron from the former layer, and it has `out_num` output neurons. CapsuleLayer just expand the output of the neuron\n",
    "    from scalar to vector. So its input shape = [None, input_num_capsule, input_dim_capsule] and output shape = \\\n",
    "    [None, num_capsule, dim_capsule]. For Dense Layer, input_dim_capsule = dim_capsule = 1.\n",
    "    \n",
    "    :param num_capsule: number of capsules in this layer\n",
    "    :param dim_capsule: dimension of the output vectors of the capsules in this layer\n",
    "    :param routings: number of iterations for the routing algorithm\n",
    "    \"\"\"\n",
    "    def __init__(self,\n",
    "                 num_capsule,\n",
    "                 dim_capsule,\n",
    "                 routings=3,\n",
    "                 share_weights=True,\n",
    "                 activation='squash',\n",
    "                 **kwargs):\n",
    "        super(Capsule, self).__init__(**kwargs)\n",
    "        self.num_capsule = num_capsule\n",
    "        self.dim_capsule = dim_capsule\n",
    "        self.routings = routings\n",
    "        self.share_weights = share_weights\n",
    "        if activation == 'squash':\n",
    "            self.activation = squash\n",
    "        else:\n",
    "            self.activation = activations.get(activation)\n",
    "\n",
    "    def build(self, input_shape):\n",
    "        input_dim_capsule = input_shape[-1]\n",
    "        if self.share_weights:\n",
    "            self.kernel = self.add_weight(\n",
    "                name='capsule_kernel',\n",
    "                shape=(1, input_dim_capsule,\n",
    "                       self.num_capsule * self.dim_capsule),\n",
    "                initializer='glorot_uniform',\n",
    "                trainable=True)\n",
    "        else:\n",
    "            if input_shape[-2] is None:\n",
    "                raise ValueError(\"Input Shape must be defied if weights not shared.\")\n",
    "            input_num_capsule = input_shape[-2]\n",
    "            self.kernel = self.add_weight(\n",
    "                name='capsule_kernel',\n",
    "                shape=(input_num_capsule, input_dim_capsule,\n",
    "                       self.num_capsule * self.dim_capsule),\n",
    "                initializer='glorot_uniform',\n",
    "                trainable=True)\n",
    "\n",
    "    def call(self, inputs):\n",
    "        \"\"\"Following the routing algorithm from Hinton's paper,\n",
    "        but replace b = b + <u,v> with b = <u,v>.\n",
    "        This change can improve the feature representation of Capsule.\n",
    "        However, you can replace\n",
    "            b = K.batch_dot(outputs, hat_inputs, [2, 3])\n",
    "        with\n",
    "            b += K.batch_dot(outputs, hat_inputs, [2, 3])\n",
    "        to realize a standard routing.\n",
    "        \"\"\"\n",
    "\n",
    "        if self.share_weights:\n",
    "            hat_inputs = K.conv1d(inputs, self.kernel)\n",
    "        else:\n",
    "            hat_inputs = K.local_conv1d(inputs, self.kernel, [1], [1])\n",
    "\n",
    "        batch_size = K.shape(inputs)[0]\n",
    "        input_num_capsule = K.shape(inputs)[1]\n",
    "        hat_inputs = K.reshape(hat_inputs,\n",
    "                               (batch_size, input_num_capsule,\n",
    "                                self.num_capsule, self.dim_capsule))\n",
    "        hat_inputs = K.permute_dimensions(hat_inputs, (0, 2, 1, 3))\n",
    "\n",
    "        b = K.zeros_like(hat_inputs[:, :, :, 0])\n",
    "\n",
    "        \n",
    "        # Begin: Routing algorithm ---------------------------------------------------------------------#\n",
    "        # The prior for coupling coefficient, initialized as zeros.\n",
    "        # b.shape = [None, self.num_capsule, self.input_num_capsule].\n",
    "\n",
    "        for i in range(self.routings):\n",
    "            c = softmax(b, 1)\n",
    "            o = self.activation(caps_batch_dot(c, hat_inputs))\n",
    "            if i < self.routings - 1:\n",
    "                b = caps_batch_dot(o, hat_inputs)\n",
    "                if K.backend() == 'theano':\n",
    "                    o = K.sum(o, axis=1)\n",
    "        # End: Routing algorithm -----------------------------------------------------------------------#\n",
    "        return o\n",
    "\n",
    "    def compute_output_shape(self, input_shape):\n",
    "        return (None, self.num_capsule, self.dim_capsule)\n",
    "        \n",
    "    def get_config(self):\n",
    "        config = {\n",
    "            'num_capsule': self.num_capsule,\n",
    "            'dim_capsule': self.dim_capsule,\n",
    "            'routings': self.routings\n",
    "        }\n",
    "        base_config = super(Capsule, self).get_config()\n",
    "        return dict(list(base_config.items()) + list(config.items()))"
   ]
  },
  {
   "cell_type": "code",
   "execution_count": 39,
   "metadata": {},
   "outputs": [],
   "source": [
    "input_image = Input(shape=(IMG_SIZE, IMG_SIZE, 3))\n",
    "\n",
    "\n",
    "# A InceptionResNetV2 Conv2D model\n",
    "base_model = VGG16(include_top=False, weights='imagenet', input_tensor=input_image)\n",
    "#base_model.summary()"
   ]
  },
  {
   "cell_type": "code",
   "execution_count": 40,
   "metadata": {
    "scrolled": true
   },
   "outputs": [
    {
     "name": "stdout",
     "output_type": "stream",
     "text": [
      "Model: \"model_1\"\n",
      "_________________________________________________________________\n",
      "Layer (type)                 Output Shape              Param #   \n",
      "=================================================================\n",
      "input_2 (InputLayer)         [(None, 299, 299, 3)]     0         \n",
      "_________________________________________________________________\n",
      "block1_conv1 (Conv2D)        (None, 299, 299, 64)      1792      \n",
      "_________________________________________________________________\n",
      "block1_conv2 (Conv2D)        (None, 299, 299, 64)      36928     \n",
      "_________________________________________________________________\n",
      "block1_pool (MaxPooling2D)   (None, 149, 149, 64)      0         \n",
      "_________________________________________________________________\n",
      "block2_conv1 (Conv2D)        (None, 149, 149, 128)     73856     \n",
      "_________________________________________________________________\n",
      "block2_conv2 (Conv2D)        (None, 149, 149, 128)     147584    \n",
      "_________________________________________________________________\n",
      "block2_pool (MaxPooling2D)   (None, 74, 74, 128)       0         \n",
      "_________________________________________________________________\n",
      "block3_conv1 (Conv2D)        (None, 74, 74, 256)       295168    \n",
      "_________________________________________________________________\n",
      "block3_conv2 (Conv2D)        (None, 74, 74, 256)       590080    \n",
      "_________________________________________________________________\n",
      "block3_conv3 (Conv2D)        (None, 74, 74, 256)       590080    \n",
      "_________________________________________________________________\n",
      "block3_pool (MaxPooling2D)   (None, 37, 37, 256)       0         \n",
      "_________________________________________________________________\n",
      "block4_conv1 (Conv2D)        (None, 37, 37, 512)       1180160   \n",
      "_________________________________________________________________\n",
      "block4_conv2 (Conv2D)        (None, 37, 37, 512)       2359808   \n",
      "_________________________________________________________________\n",
      "block4_conv3 (Conv2D)        (None, 37, 37, 512)       2359808   \n",
      "_________________________________________________________________\n",
      "block4_pool (MaxPooling2D)   (None, 18, 18, 512)       0         \n",
      "_________________________________________________________________\n",
      "block5_conv1 (Conv2D)        (None, 18, 18, 512)       2359808   \n",
      "_________________________________________________________________\n",
      "block5_conv2 (Conv2D)        (None, 18, 18, 512)       2359808   \n",
      "_________________________________________________________________\n",
      "block5_conv3 (Conv2D)        (None, 18, 18, 512)       2359808   \n",
      "_________________________________________________________________\n",
      "block5_pool (MaxPooling2D)   (None, 9, 9, 512)         0         \n",
      "_________________________________________________________________\n",
      "conv2d_1 (Conv2D)            (None, 7, 7, 256)         1179904   \n",
      "_________________________________________________________________\n",
      "reshape_1 (Reshape)          (None, 49, 256)           0         \n",
      "_________________________________________________________________\n",
      "capsule_2 (Capsule)          (None, 32, 8)             65536     \n",
      "_________________________________________________________________\n",
      "capsule_3 (Capsule)          (None, 2, 16)             256       \n",
      "_________________________________________________________________\n",
      "lambda_1 (Lambda)            (None, 2)                 0         \n",
      "=================================================================\n",
      "Total params: 15,960,384\n",
      "Trainable params: 15,960,384\n",
      "Non-trainable params: 0\n",
      "_________________________________________________________________\n"
     ]
    }
   ],
   "source": [
    "output = Conv2D(256, kernel_size=(3, 3), strides=(1, 1), activation='relu')(base_model.get_layer(name='block5_pool').output)\n",
    "\n",
    "x = Reshape((-1, 256))(output)\n",
    "x = Capsule(32, 8, 3, True)(x)\n",
    "\n",
    "capsule = Capsule(2, 16, 4, True)(x)\n",
    "\n",
    "output = Lambda(lambda z: K.sqrt(K.sum(K.square(z), 2)))(capsule)\n",
    "\n",
    "\n",
    "model = Model(inputs=input_image, outputs=output)\n",
    "model.summary()"
   ]
  },
  {
   "cell_type": "code",
   "execution_count": 41,
   "metadata": {},
   "outputs": [],
   "source": [
    "lr=1e-4\n",
    "\n",
    "checkpoint = ModelCheckpoint(\"weights.h5\", \n",
    "                             monitor='val_loss', \n",
    "                             verbose=1, \n",
    "                             save_best_only=True, \n",
    "                             save_weights_only=False, \n",
    "                             mode='min')\n",
    "\n",
    "early = EarlyStopping(monitor='val_loss', patience=10, verbose=0, mode='min', restore_best_weights=True)\n",
    "\n",
    "callback_list = [checkpoint, early]"
   ]
  },
  {
   "cell_type": "code",
   "execution_count": 42,
   "metadata": {
    "scrolled": true
   },
   "outputs": [
    {
     "name": "stderr",
     "output_type": "stream",
     "text": [
      "C:\\anaconda\\lib\\site-packages\\tensorflow\\python\\keras\\optimizer_v2\\optimizer_v2.py:374: UserWarning: The `lr` argument is deprecated, use `learning_rate` instead.\n",
      "  warnings.warn(\n"
     ]
    },
    {
     "name": "stdout",
     "output_type": "stream",
     "text": [
      "Epoch 1/9\n",
      "10/10 [==============================] - 245s 24s/step - loss: 0.2849 - accuracy: 0.5113 - val_loss: 0.2282 - val_accuracy: 0.6111\n",
      "\n",
      "Epoch 00001: val_loss improved from inf to 0.22824, saving model to weights.h5\n",
      "Epoch 2/9\n",
      "10/10 [==============================] - 249s 25s/step - loss: 0.1964 - accuracy: 0.8232 - val_loss: 0.1162 - val_accuracy: 0.9722\n",
      "\n",
      "Epoch 00002: val_loss improved from 0.22824 to 0.11620, saving model to weights.h5\n",
      "Epoch 3/9\n",
      "10/10 [==============================] - 248s 25s/step - loss: 0.1086 - accuracy: 0.8907 - val_loss: 0.0422 - val_accuracy: 0.9722\n",
      "\n",
      "Epoch 00003: val_loss improved from 0.11620 to 0.04216, saving model to weights.h5\n",
      "Epoch 4/9\n",
      "10/10 [==============================] - 247s 25s/step - loss: 0.0778 - accuracy: 0.9132 - val_loss: 0.0321 - val_accuracy: 0.9722\n",
      "\n",
      "Epoch 00004: val_loss improved from 0.04216 to 0.03210, saving model to weights.h5\n",
      "Epoch 5/9\n",
      "10/10 [==============================] - 248s 25s/step - loss: 0.0758 - accuracy: 0.9132 - val_loss: 0.0214 - val_accuracy: 0.9722\n",
      "\n",
      "Epoch 00005: val_loss improved from 0.03210 to 0.02135, saving model to weights.h5\n",
      "Epoch 6/9\n",
      "10/10 [==============================] - 247s 25s/step - loss: 0.0619 - accuracy: 0.9389 - val_loss: 0.0223 - val_accuracy: 1.0000\n",
      "\n",
      "Epoch 00006: val_loss did not improve from 0.02135\n",
      "Epoch 7/9\n",
      "10/10 [==============================] - 251s 25s/step - loss: 0.0488 - accuracy: 0.9550 - val_loss: 0.0220 - val_accuracy: 1.0000\n",
      "\n",
      "Epoch 00007: val_loss did not improve from 0.02135\n",
      "Epoch 8/9\n",
      "10/10 [==============================] - 263s 26s/step - loss: 0.0426 - accuracy: 0.9550 - val_loss: 0.0158 - val_accuracy: 1.0000\n",
      "\n",
      "Epoch 00008: val_loss improved from 0.02135 to 0.01582, saving model to weights.h5\n",
      "Epoch 9/9\n",
      "10/10 [==============================] - 283s 28s/step - loss: 0.0351 - accuracy: 0.9582 - val_loss: 0.0301 - val_accuracy: 0.9444\n",
      "\n",
      "Epoch 00009: val_loss did not improve from 0.01582\n"
     ]
    }
   ],
   "source": [
    "epochs=9\n",
    "batch_size = 32\n",
    "num_classes = 2\n",
    "\n",
    "model.compile(loss=margin_loss, optimizer=SGD(lr=lr, momentum=0.9), metrics=['accuracy'])\n",
    "\n",
    "\n",
    "history=model.fit(train,\n",
    "          epochs=epochs,\n",
    "          validation_data=val, \n",
    "          validation_steps = len(val.classes)//val_batch,\n",
    "          steps_per_epoch=len(train.classes)//train_batch,\n",
    "          callbacks=callback_list\n",
    "          )"
   ]
  },
  {
   "cell_type": "code",
   "execution_count": 43,
   "metadata": {},
   "outputs": [
    {
     "name": "stderr",
     "output_type": "stream",
     "text": [
      "C:\\anaconda\\lib\\site-packages\\tensorflow\\python\\keras\\engine\\training.py:1973: UserWarning: `Model.evaluate_generator` is deprecated and will be removed in a future version. Please use `Model.evaluate`, which supports generators.\n",
      "  warnings.warn('`Model.evaluate_generator` is deprecated and '\n"
     ]
    },
    {
     "name": "stdout",
     "output_type": "stream",
     "text": [
      "\n",
      "\n",
      "================================\n",
      "\n",
      "\n",
      "Loss: 0.019348617643117905\n",
      "Accuracy: 99.43 %\n",
      "\n",
      "\n",
      "================================\n",
      "\n",
      "\n"
     ]
    }
   ],
   "source": [
    "loss, acc = model.evaluate_generator(test, len(test))\n",
    "\n",
    "print (\"\\n\\n================================\\n\\n\")\n",
    "print (\"Loss: {}\".format(loss))\n",
    "print (\"Accuracy: {0:.2f} %\".format(acc * 100))\n",
    "print (\"\\n\\n================================\\n\\n\")\n",
    "\n",
    "\n",
    "test.reset()"
   ]
  },
  {
   "cell_type": "code",
   "execution_count": 44,
   "metadata": {},
   "outputs": [
    {
     "data": {
      "image/png": "[encoded data removed]",
      "text/plain": [
       "<Figure size 432x288 with 1 Axes>"
      ]
     },
     "metadata": {
      "needs_background": "light"
     },
     "output_type": "display_data"
    }
   ],
   "source": [
    "plt.plot(history.history['accuracy'])\n",
    "plt.plot(history.history['val_accuracy'])\n",
    "#plt.title('model accuracy')\n",
    "plt.ylabel('Accuracy')\n",
    "plt.xlabel('Epochs')\n",
    "plt.legend(['Training Accuracy', 'Validation Accuracy'], loc='upper left')\n",
    "plt.show()"
   ]
  },
  {
   "cell_type": "code",
   "execution_count": 45,
   "metadata": {},
   "outputs": [
    {
     "data": {
      "image/png": "[encoded data removed]",
      "text/plain": [
       "<Figure size 432x288 with 1 Axes>"
      ]
     },
     "metadata": {
      "needs_background": "light"
     },
     "output_type": "display_data"
    }
   ],
   "source": [
    "plt.plot(history.history['loss'])\n",
    "plt.plot(history.history['val_loss'])\n",
    "#plt.title('model loss')\n",
    "plt.ylabel('Loss')\n",
    "plt.xlabel('Epochs')\n",
    "plt.legend(['Training Loss', 'Validation Loss'], loc='upper left')\n",
    "plt.show()"
   ]
  },
  {
   "cell_type": "code",
   "execution_count": 46,
   "metadata": {},
   "outputs": [
    {
     "name": "stdout",
     "output_type": "stream",
     "text": [
      "6/6 [==============================] - 44s 7s/step - loss: 0.0193 - accuracy: 0.9943\n",
      "The testing accuracy is : 99.4252860546112 %\n"
     ]
    }
   ],
   "source": [
    "test_accu = model.evaluate(test)\n",
    "print('The testing accuracy is :',test_accu[1]*100, '%')"
   ]
  },
  {
   "cell_type": "code",
   "execution_count": 47,
   "metadata": {},
   "outputs": [
    {
     "name": "stdout",
     "output_type": "stream",
     "text": [
      "6/6 [==============================] - 43s 7s/step\n"
     ]
    }
   ],
   "source": [
    "preds = model.predict(test,verbose=1)\n",
    "predictions = preds.copy()\n",
    "predictions[predictions <= 0.5] = 0\n",
    "predictions[predictions > 0.5] = 1"
   ]
  },
  {
   "cell_type": "code",
   "execution_count": 48,
   "metadata": {},
   "outputs": [
    {
     "name": "stdout",
     "output_type": "stream",
     "text": [
      "Confusion Matrix\n",
      "[[120   0]\n",
      " [  1  53]]\n"
     ]
    }
   ],
   "source": [
    "#Confusion Matrix and Classification Report\n",
    "from sklearn.metrics import classification_report\n",
    "from sklearn.metrics import confusion_matrix\n",
    "\n",
    "#Y_pred = model.predict_generator(validation_generator, nb_validation_samples // \n",
    "#batch_size+1)\n",
    "y_pred = np.argmax(preds, axis=1)\n",
    "\n",
    "print('Confusion Matrix')\n",
    "print(confusion_matrix(test.classes, y_pred))\n"
   ]
  },
  {
   "cell_type": "code",
   "execution_count": 49,
   "metadata": {},
   "outputs": [
    {
     "name": "stdout",
     "output_type": "stream",
     "text": [
      "Classification Report\n",
      "              precision    recall  f1-score   support\n",
      "\n",
      "      Benign       0.99      1.00      1.00       120\n",
      "   Malignant       1.00      0.98      0.99        54\n",
      "\n",
      "    accuracy                           0.99       174\n",
      "   macro avg       1.00      0.99      0.99       174\n",
      "weighted avg       0.99      0.99      0.99       174\n",
      "\n"
     ]
    }
   ],
   "source": [
    "print('Classification Report')\n",
    "target_names = ['Benign', 'Malignant']\n",
    "print(classification_report(test.classes, y_pred, target_names=target_names))"
   ]
  },
  {
   "cell_type": "code",
   "execution_count": 50,
   "metadata": {},
   "outputs": [
    {
     "data": {
      "text/plain": [
       "(1.0, 0.9814814814814815, 0.9906542056074767)"
      ]
     },
     "execution_count": 50,
     "metadata": {},
     "output_type": "execute_result"
    }
   ],
   "source": [
    "from sklearn.metrics import precision_score, recall_score\n",
    "from sklearn.metrics import f1_score\n",
    "\n",
    "precision_score(test.classes, y_pred) , recall_score(test.classes, y_pred) ,  f1_score(test.classes, y_pred)"
   ]
  },
  {
   "cell_type": "code",
   "execution_count": 51,
   "metadata": {},
   "outputs": [
    {
     "data": {
      "text/plain": [
       "<AxesSubplot:>"
      ]
     },
     "execution_count": 51,
     "metadata": {},
     "output_type": "execute_result"
    },
    {
     "data": {
      "image/png": "[encoded data removed]",
      "text/plain": [
       "<Figure size 432x288 with 2 Axes>"
      ]
     },
     "metadata": {
      "needs_background": "light"
     },
     "output_type": "display_data"
    }
   ],
   "source": [
    "from sklearn.metrics import classification_report,confusion_matrix\n",
    "cm = pd.DataFrame(data=confusion_matrix( y_true= test.classes, y_pred= y_pred, labels=[0, 1]), index=[\"Actual ADC\", \"Actual Normal\"],columns=[\"Predicted ADC\", \"Predicted Normal\"])\n",
    "import seaborn as sns\n",
    "import seaborn as sns\n",
    "sns.heatmap(cm,annot=True,fmt=\"d\")"
   ]
  },
  {
   "cell_type": "code",
   "execution_count": 52,
   "metadata": {},
   "outputs": [
    {
     "data": {
      "text/plain": [
       "<AxesSubplot:>"
      ]
     },
     "execution_count": 52,
     "metadata": {},
     "output_type": "execute_result"
    },
    {
     "data": {
      "image/png": "[encoded data removed]",
      "text/plain": [
       "<Figure size 432x288 with 2 Axes>"
      ]
     },
     "metadata": {
      "needs_background": "light"
     },
     "output_type": "display_data"
    }
   ],
   "source": [
    "from sklearn.metrics import classification_report,confusion_matrix\n",
    "cm = pd.DataFrame(data=confusion_matrix( y_true= test.classes, y_pred= y_pred, labels=[0, 1]), index=[\"Actual ADC\", \"Actual Normal\"],columns=[\"Predicted ADC\", \"Predicted Normal\"])\n",
    "import seaborn as sns\n",
    "sns.heatmap(cm,annot=True,fmt=\"d\",cmap=\"YlGnBu\")"
   ]
  },
  {
   "cell_type": "code",
   "execution_count": 53,
   "metadata": {},
   "outputs": [],
   "source": [
    "from sklearn.datasets import make_classification\n",
    "from sklearn.linear_model import LogisticRegression\n",
    "from sklearn.model_selection import train_test_split\n",
    "from sklearn.metrics import roc_curve\n",
    "from matplotlib import pyplot\n",
    "import sklearn.metrics as metrics"
   ]
  },
  {
   "cell_type": "code",
   "execution_count": 54,
   "metadata": {},
   "outputs": [
    {
     "data": {
      "image/png": "[encoded data removed]",
      "text/plain": [
       "<Figure size 432x288 with 1 Axes>"
      ]
     },
     "metadata": {
      "needs_background": "light"
     },
     "output_type": "display_data"
    }
   ],
   "source": [
    "fpr, tpr, threshold = metrics.roc_curve(test.classes, y_pred)\n",
    "roc_auc = metrics.auc(fpr, tpr)\n",
    "import matplotlib.pyplot as plt\n",
    "plt.title('Receiver Operating Characteristic')\n",
    "plt.plot(fpr, tpr, 'b', label = 'AUC = %0.2f' % roc_auc)\n",
    "plt.legend(loc = 'lower right')\n",
    "plt.plot([0, 1], [0, 1],'r--')\n",
    "plt.xlim([0, 1])\n",
    "plt.ylim([0, 1])\n",
    "plt.ylabel('True Positive Rate')\n",
    "plt.xlabel('False Positive Rate')\n",
    "plt.show()"
   ]
  },
  {
   "cell_type": "code",
   "execution_count": 55,
   "metadata": {},
   "outputs": [
    {
     "data": {
      "image/png": "[encoded data removed]",
      "text/plain": [
       "<Figure size 432x288 with 1 Axes>"
      ]
     },
     "metadata": {
      "needs_background": "light"
     },
     "output_type": "display_data"
    }
   ],
   "source": [
    "import sklearn.metrics as metrics\n",
    "pyplot.plot([0, 1], [0, 1], linestyle='--')\n",
    "fpr, tpr, threshold = metrics.roc_curve(test.classes, y_pred)\n",
    "roc_auc = metrics.auc(fpr, tpr)\n",
    "\n",
    "# plot model roc curve\n",
    "plt.plot(fpr, tpr, 'b', label = 'AUC(Lung Vgg Caps) = %0.2f' % roc_auc)\n",
    "# axis labels\n",
    "pyplot.xlabel('False Positive Rate')\n",
    "pyplot.ylabel('True Positive Rate')\n",
    "# show the legend\n",
    "pyplot.legend()\n",
    "plt.legend(loc=\"lower right\")\n",
    "#pyplot.title('ROC curve for classification using VGGCapsNet')\n",
    "# show the plot\n",
    "pyplot.show()"
   ]
  },
  {
   "cell_type": "code",
   "execution_count": 56,
   "metadata": {},
   "outputs": [
    {
     "data": {
      "text/plain": [
       "array([0, 0, 0, 0, 0, 0, 0, 0, 0, 0, 0, 0, 0, 0, 0, 0, 0, 0, 0, 0, 0, 0,\n",
       "       0, 0, 0, 0, 0, 0, 0, 0, 0, 0, 0, 0, 0, 0, 0, 0, 0, 0, 0, 0, 0, 0,\n",
       "       0, 0, 0, 0, 0, 0, 0, 0, 0, 0, 0, 0, 0, 0, 0, 0, 0, 0, 0, 0, 0, 0,\n",
       "       0, 0, 0, 0, 0, 0, 0, 0, 0, 0, 0, 0, 0, 0, 0, 0, 0, 0, 0, 0, 0, 0,\n",
       "       0, 0, 0, 0, 0, 0, 0, 0, 0, 0, 0, 0, 0, 0, 0, 0, 0, 0, 0, 0, 0, 0,\n",
       "       0, 0, 0, 0, 0, 0, 0, 0, 0, 0, 1, 1, 1, 1, 1, 1, 1, 1, 1, 1, 1, 1,\n",
       "       1, 1, 1, 1, 1, 1, 1, 1, 1, 1, 1, 1, 1, 1, 1, 1, 1, 1, 1, 1, 1, 1,\n",
       "       1, 1, 1, 1, 1, 1, 1, 1, 1, 1, 1, 1, 1, 1, 1, 1, 1, 1, 1, 1])"
      ]
     },
     "execution_count": 56,
     "metadata": {},
     "output_type": "execute_result"
    }
   ],
   "source": [
    "test.classes"
   ]
  },
  {
   "cell_type": "code",
   "execution_count": 57,
   "metadata": {},
   "outputs": [
    {
     "data": {
      "text/plain": [
       "array([0, 0, 0, 0, 0, 0, 0, 0, 0, 0, 0, 0, 0, 0, 0, 0, 0, 0, 0, 0, 0, 0,\n",
       "       0, 0, 0, 0, 0, 0, 0, 0, 0, 0, 0, 0, 0, 0, 0, 0, 0, 0, 0, 0, 0, 0,\n",
       "       0, 0, 0, 0, 0, 0, 0, 0, 0, 0, 0, 0, 0, 0, 0, 0, 0, 0, 0, 0, 0, 0,\n",
       "       0, 0, 0, 0, 0, 0, 0, 0, 0, 0, 0, 0, 0, 0, 0, 0, 0, 0, 0, 0, 0, 0,\n",
       "       0, 0, 0, 0, 0, 0, 0, 0, 0, 0, 0, 0, 0, 0, 0, 0, 0, 0, 0, 0, 0, 0,\n",
       "       0, 0, 0, 0, 0, 0, 0, 0, 0, 0, 1, 1, 1, 1, 1, 1, 1, 1, 1, 1, 1, 1,\n",
       "       1, 1, 1, 1, 1, 1, 1, 1, 1, 1, 1, 1, 0, 1, 1, 1, 1, 1, 1, 1, 1, 1,\n",
       "       1, 1, 1, 1, 1, 1, 1, 1, 1, 1, 1, 1, 1, 1, 1, 1, 1, 1, 1, 1],\n",
       "      dtype=int64)"
      ]
     },
     "execution_count": 57,
     "metadata": {},
     "output_type": "execute_result"
    }
   ],
   "source": [
    "y_pred"
   ]
  },
  {
   "cell_type": "code",
   "execution_count": 58,
   "metadata": {},
   "outputs": [
    {
     "data": {
      "text/plain": [
       "array([[0.70714784, 0.42151308],\n",
       "       [0.83764625, 0.2108102 ],\n",
       "       [0.7718101 , 0.17844479],\n",
       "       [0.8135161 , 0.29830673],\n",
       "       [0.83073413, 0.13502212],\n",
       "       [0.8057137 , 0.32206059],\n",
       "       [0.8033199 , 0.1257921 ],\n",
       "       [0.8817393 , 0.21081011],\n",
       "       [0.7191225 , 0.35213697],\n",
       "       [0.8640482 , 0.27896312],\n",
       "       [0.86868453, 0.45630893],\n",
       "       [0.8091179 , 0.13056982],\n",
       "       [0.7836574 , 0.20415415],\n",
       "       [0.8074729 , 0.21196787],\n",
       "       [0.8646335 , 0.24832746],\n",
       "       [0.8808173 , 0.24054874],\n",
       "       [0.8359592 , 0.10239362],\n",
       "       [0.6963583 , 0.5346397 ],\n",
       "       [0.7655878 , 0.08081283],\n",
       "       [0.8281812 , 0.19173008],\n",
       "       [0.80102926, 0.2510825 ],\n",
       "       [0.8434297 , 0.11128176],\n",
       "       [0.8443844 , 0.18327454],\n",
       "       [0.87797713, 0.3183054 ],\n",
       "       [0.8211152 , 0.11011235],\n",
       "       [0.8658899 , 0.25607798],\n",
       "       [0.8513411 , 0.1309811 ],\n",
       "       [0.8134717 , 0.08296387],\n",
       "       [0.82349366, 0.13111141],\n",
       "       [0.8071128 , 0.24619646],\n",
       "       [0.7737178 , 0.06249671],\n",
       "       [0.85711974, 0.1853692 ],\n",
       "       [0.8012562 , 0.12518479],\n",
       "       [0.86333466, 0.2339711 ],\n",
       "       [0.8562879 , 0.15740113],\n",
       "       [0.8007186 , 0.24198376],\n",
       "       [0.7955094 , 0.11287313],\n",
       "       [0.7896646 , 0.15933587],\n",
       "       [0.8084421 , 0.12756076],\n",
       "       [0.8585212 , 0.13818869],\n",
       "       [0.81128037, 0.30481747],\n",
       "       [0.8041196 , 0.23374692],\n",
       "       [0.84478855, 0.22898763],\n",
       "       [0.8669752 , 0.1909697 ],\n",
       "       [0.80705225, 0.10823669],\n",
       "       [0.82544184, 0.14903907],\n",
       "       [0.8183543 , 0.04450486],\n",
       "       [0.80779624, 0.05653196],\n",
       "       [0.8128819 , 0.11209252],\n",
       "       [0.8238412 , 0.06833933],\n",
       "       [0.8206433 , 0.09988145],\n",
       "       [0.84345543, 0.06723987],\n",
       "       [0.8206576 , 0.34840533],\n",
       "       [0.80768406, 0.20507592],\n",
       "       [0.8489298 , 0.12004023],\n",
       "       [0.8305449 , 0.11519822],\n",
       "       [0.74604255, 0.21720164],\n",
       "       [0.8471172 , 0.10014061],\n",
       "       [0.8484322 , 0.4203166 ],\n",
       "       [0.8282813 , 0.2125611 ],\n",
       "       [0.83213913, 0.3165999 ],\n",
       "       [0.76905894, 0.2741576 ],\n",
       "       [0.8572123 , 0.20025517],\n",
       "       [0.8051092 , 0.11096427],\n",
       "       [0.8650763 , 0.14731857],\n",
       "       [0.805391  , 0.2053633 ],\n",
       "       [0.8658042 , 0.19755311],\n",
       "       [0.8341288 , 0.19736165],\n",
       "       [0.8441947 , 0.04701914],\n",
       "       [0.7745413 , 0.16241528],\n",
       "       [0.8289541 , 0.13748237],\n",
       "       [0.8361538 , 0.29515854],\n",
       "       [0.83036417, 0.2411892 ],\n",
       "       [0.8636322 , 0.16234002],\n",
       "       [0.7944595 , 0.22795132],\n",
       "       [0.83352923, 0.17832398],\n",
       "       [0.8231668 , 0.06953302],\n",
       "       [0.8475406 , 0.15883192],\n",
       "       [0.82244873, 0.13737679],\n",
       "       [0.8801258 , 0.1411224 ],\n",
       "       [0.8632134 , 0.15040891],\n",
       "       [0.84980434, 0.10699676],\n",
       "       [0.84546024, 0.29016542],\n",
       "       [0.8433949 , 0.27954206],\n",
       "       [0.78851795, 0.1133606 ],\n",
       "       [0.82593197, 0.15730712],\n",
       "       [0.8358511 , 0.08070074],\n",
       "       [0.7963493 , 0.31626785],\n",
       "       [0.8651096 , 0.08229687],\n",
       "       [0.7869131 , 0.09890708],\n",
       "       [0.8004256 , 0.3224857 ],\n",
       "       [0.80425525, 0.14215392],\n",
       "       [0.6363395 , 0.5140579 ],\n",
       "       [0.8101932 , 0.24557193],\n",
       "       [0.743636  , 0.10498041],\n",
       "       [0.8301534 , 0.28235647],\n",
       "       [0.81252915, 0.08825808],\n",
       "       [0.7529035 , 0.1946174 ],\n",
       "       [0.85946697, 0.2597006 ],\n",
       "       [0.85696733, 0.1628117 ],\n",
       "       [0.7614224 , 0.09638778],\n",
       "       [0.8751259 , 0.04984525],\n",
       "       [0.77042323, 0.0862269 ],\n",
       "       [0.77259964, 0.0802395 ],\n",
       "       [0.8785702 , 0.16304399],\n",
       "       [0.8089683 , 0.18455966],\n",
       "       [0.66182977, 0.38070402],\n",
       "       [0.863095  , 0.21863732],\n",
       "       [0.7821163 , 0.143643  ],\n",
       "       [0.7767403 , 0.05518926],\n",
       "       [0.7969033 , 0.1628999 ],\n",
       "       [0.81154907, 0.19736075],\n",
       "       [0.7827032 , 0.1306827 ],\n",
       "       [0.80461675, 0.26990756],\n",
       "       [0.7384919 , 0.19685937],\n",
       "       [0.8400367 , 0.16090894],\n",
       "       [0.85713667, 0.21011874],\n",
       "       [0.7847955 , 0.25405398],\n",
       "       [0.8299716 , 0.22831081],\n",
       "       [0.88262904, 0.3398375 ],\n",
       "       [0.06583535, 0.8284468 ],\n",
       "       [0.06583535, 0.8284468 ],\n",
       "       [0.04855737, 0.8365625 ],\n",
       "       [0.04855737, 0.8365625 ],\n",
       "       [0.05114229, 0.8273147 ],\n",
       "       [0.04974455, 0.8323992 ],\n",
       "       [0.04974455, 0.8323992 ],\n",
       "       [0.05114229, 0.8273147 ],\n",
       "       [0.12123594, 0.8817111 ],\n",
       "       [0.12123594, 0.8817111 ],\n",
       "       [0.07003595, 0.8631214 ],\n",
       "       [0.07003595, 0.8631214 ],\n",
       "       [0.15435031, 0.88121396],\n",
       "       [0.05878483, 0.87242717],\n",
       "       [0.05878483, 0.87242717],\n",
       "       [0.15435031, 0.88121396],\n",
       "       [0.05062752, 0.8733854 ],\n",
       "       [0.05062752, 0.8733854 ],\n",
       "       [0.04656547, 0.85845876],\n",
       "       [0.04656547, 0.85845876],\n",
       "       [0.05639667, 0.8640631 ],\n",
       "       [0.04553088, 0.86213624],\n",
       "       [0.04553088, 0.86213624],\n",
       "       [0.05162686, 0.85840344],\n",
       "       [0.86896986, 0.09187496],\n",
       "       [0.52045876, 0.80893826],\n",
       "       [0.20404394, 0.8498082 ],\n",
       "       [0.22268414, 0.8495334 ],\n",
       "       [0.06049623, 0.89127254],\n",
       "       [0.11240849, 0.8033233 ],\n",
       "       [0.11240849, 0.8033233 ],\n",
       "       [0.09147268, 0.8361186 ],\n",
       "       [0.09147268, 0.8361186 ],\n",
       "       [0.11240849, 0.8033233 ],\n",
       "       [0.09147268, 0.8361186 ],\n",
       "       [0.11240849, 0.8033233 ],\n",
       "       [0.21691579, 0.85238606],\n",
       "       [0.21691579, 0.85238606],\n",
       "       [0.07151889, 0.8705574 ],\n",
       "       [0.07151889, 0.8705574 ],\n",
       "       [0.21691579, 0.85238606],\n",
       "       [0.07151889, 0.8705574 ],\n",
       "       [0.07151889, 0.8705574 ],\n",
       "       [0.21691579, 0.85238606],\n",
       "       [0.1348553 , 0.86522645],\n",
       "       [0.1348553 , 0.86522645],\n",
       "       [0.10456026, 0.8439464 ],\n",
       "       [0.10456026, 0.8439464 ],\n",
       "       [0.1114611 , 0.8466228 ],\n",
       "       [0.10456026, 0.8439464 ],\n",
       "       [0.10456026, 0.8439464 ],\n",
       "       [0.1114611 , 0.8466228 ],\n",
       "       [0.3190625 , 0.8560298 ],\n",
       "       [0.23879635, 0.89071125]], dtype=float32)"
      ]
     },
     "execution_count": 58,
     "metadata": {},
     "output_type": "execute_result"
    }
   ],
   "source": [
    "preds"
   ]
  },
  {
   "cell_type": "code",
   "execution_count": 59,
   "metadata": {},
   "outputs": [
    {
     "name": "stdout",
     "output_type": "stream",
     "text": [
      "0.42151308\n",
      "0.2108102\n",
      "0.17844479\n",
      "0.29830673\n",
      "0.13502212\n",
      "0.32206059\n",
      "0.1257921\n",
      "0.21081011\n",
      "0.35213697\n",
      "0.27896312\n",
      "0.45630893\n",
      "0.13056982\n",
      "0.20415415\n",
      "0.21196787\n",
      "0.24832746\n",
      "0.24054874\n",
      "0.10239362\n",
      "0.5346397\n",
      "0.08081283\n",
      "0.19173008\n",
      "0.2510825\n",
      "0.11128176\n",
      "0.18327454\n",
      "0.3183054\n",
      "0.11011235\n",
      "0.25607798\n",
      "0.1309811\n",
      "0.08296387\n",
      "0.13111141\n",
      "0.24619646\n",
      "0.062496714\n",
      "0.1853692\n",
      "0.12518479\n",
      "0.2339711\n",
      "0.15740113\n",
      "0.24198376\n",
      "0.11287313\n",
      "0.15933587\n",
      "0.12756076\n",
      "0.13818869\n",
      "0.30481747\n",
      "0.23374692\n",
      "0.22898763\n",
      "0.1909697\n",
      "0.108236685\n",
      "0.14903907\n",
      "0.044504862\n",
      "0.056531962\n",
      "0.112092525\n",
      "0.068339325\n",
      "0.09988145\n",
      "0.06723987\n",
      "0.34840533\n",
      "0.20507592\n",
      "0.12004023\n",
      "0.115198225\n",
      "0.21720164\n",
      "0.10014061\n",
      "0.4203166\n",
      "0.2125611\n",
      "0.3165999\n",
      "0.2741576\n",
      "0.20025517\n",
      "0.11096427\n",
      "0.14731857\n",
      "0.2053633\n",
      "0.19755311\n",
      "0.19736165\n",
      "0.04701914\n",
      "0.16241528\n",
      "0.13748237\n",
      "0.29515854\n",
      "0.2411892\n",
      "0.16234002\n",
      "0.22795132\n",
      "0.17832398\n",
      "0.06953302\n",
      "0.15883192\n",
      "0.13737679\n",
      "0.1411224\n",
      "0.15040891\n",
      "0.10699676\n",
      "0.29016542\n",
      "0.27954206\n",
      "0.1133606\n",
      "0.15730712\n",
      "0.08070074\n",
      "0.31626785\n",
      "0.08229687\n",
      "0.098907076\n",
      "0.3224857\n",
      "0.14215392\n",
      "0.5140579\n",
      "0.24557193\n",
      "0.10498041\n",
      "0.28235647\n",
      "0.08825808\n",
      "0.1946174\n",
      "0.2597006\n",
      "0.1628117\n",
      "0.09638778\n",
      "0.04984525\n",
      "0.086226895\n",
      "0.0802395\n",
      "0.16304399\n",
      "0.18455966\n",
      "0.38070402\n",
      "0.21863732\n",
      "0.143643\n",
      "0.055189263\n",
      "0.1628999\n",
      "0.19736075\n",
      "0.1306827\n",
      "0.26990756\n",
      "0.19685937\n",
      "0.16090894\n",
      "0.21011874\n",
      "0.25405398\n",
      "0.22831081\n",
      "0.3398375\n",
      "0.8284468\n",
      "0.8284468\n",
      "0.8365625\n",
      "0.8365625\n",
      "0.8273147\n",
      "0.8323992\n",
      "0.8323992\n",
      "0.8273147\n",
      "0.8817111\n",
      "0.8817111\n",
      "0.8631214\n",
      "0.8631214\n",
      "0.88121396\n",
      "0.87242717\n",
      "0.87242717\n",
      "0.88121396\n",
      "0.8733854\n",
      "0.8733854\n",
      "0.85845876\n",
      "0.85845876\n",
      "0.8640631\n",
      "0.86213624\n",
      "0.86213624\n",
      "0.85840344\n",
      "0.091874965\n",
      "0.80893826\n",
      "0.8498082\n",
      "0.8495334\n",
      "0.89127254\n",
      "0.8033233\n",
      "0.8033233\n",
      "0.8361186\n",
      "0.8361186\n",
      "0.8033233\n",
      "0.8361186\n",
      "0.8033233\n",
      "0.85238606\n",
      "0.85238606\n",
      "0.8705574\n",
      "0.8705574\n",
      "0.85238606\n",
      "0.8705574\n",
      "0.8705574\n",
      "0.85238606\n",
      "0.86522645\n",
      "0.86522645\n",
      "0.8439464\n",
      "0.8439464\n",
      "0.8466228\n",
      "0.8439464\n",
      "0.8439464\n",
      "0.8466228\n",
      "0.8560298\n",
      "0.89071125\n"
     ]
    }
   ],
   "source": [
    "k = np.array(preds)\n",
    "\n",
    "for i in range(len(k)):\n",
    "    print(k[i,1])"
   ]
  },
  {
   "cell_type": "code",
   "execution_count": 60,
   "metadata": {},
   "outputs": [
    {
     "ename": "NameError",
     "evalue": "name 'y_pred_VCN' is not defined",
     "output_type": "error",
     "traceback": [
      "\u001b[1;31m---------------------------------------------------------------------------\u001b[0m",
      "\u001b[1;31mNameError\u001b[0m                                 Traceback (most recent call last)",
      "\u001b[1;32m<ipython-input-60-05c79081340d>\u001b[0m in \u001b[0;36m<module>\u001b[1;34m\u001b[0m\n\u001b[0;32m      1\u001b[0m \u001b[1;32mimport\u001b[0m \u001b[0msklearn\u001b[0m\u001b[1;33m.\u001b[0m\u001b[0mmetrics\u001b[0m \u001b[1;32mas\u001b[0m \u001b[0mmetrics\u001b[0m\u001b[1;33m\u001b[0m\u001b[1;33m\u001b[0m\u001b[0m\n\u001b[1;32m----> 2\u001b[1;33m \u001b[0mfpr\u001b[0m\u001b[1;33m,\u001b[0m \u001b[0mtpr\u001b[0m\u001b[1;33m,\u001b[0m \u001b[0mthreshold\u001b[0m \u001b[1;33m=\u001b[0m \u001b[0mmetrics\u001b[0m\u001b[1;33m.\u001b[0m\u001b[0mroc_curve\u001b[0m\u001b[1;33m(\u001b[0m\u001b[0mtest\u001b[0m\u001b[1;33m.\u001b[0m\u001b[0mclasses\u001b[0m\u001b[1;33m,\u001b[0m \u001b[0my_pred_VCN\u001b[0m\u001b[1;33m)\u001b[0m\u001b[1;33m\u001b[0m\u001b[1;33m\u001b[0m\u001b[0m\n\u001b[0m\u001b[0;32m      3\u001b[0m \u001b[0mroc_auc\u001b[0m \u001b[1;33m=\u001b[0m \u001b[0mmetrics\u001b[0m\u001b[1;33m.\u001b[0m\u001b[0mauc\u001b[0m\u001b[1;33m(\u001b[0m\u001b[0mfpr\u001b[0m\u001b[1;33m,\u001b[0m \u001b[0mtpr\u001b[0m\u001b[1;33m)\u001b[0m\u001b[1;33m\u001b[0m\u001b[1;33m\u001b[0m\u001b[0m\n\u001b[0;32m      4\u001b[0m \u001b[1;32mimport\u001b[0m \u001b[0mmatplotlib\u001b[0m\u001b[1;33m.\u001b[0m\u001b[0mpyplot\u001b[0m \u001b[1;32mas\u001b[0m \u001b[0mplt\u001b[0m\u001b[1;33m\u001b[0m\u001b[1;33m\u001b[0m\u001b[0m\n\u001b[0;32m      5\u001b[0m \u001b[1;31m#plt.title('Receiver Operating Characteristic')\u001b[0m\u001b[1;33m\u001b[0m\u001b[1;33m\u001b[0m\u001b[1;33m\u001b[0m\u001b[0m\n",
      "\u001b[1;31mNameError\u001b[0m: name 'y_pred_VCN' is not defined"
     ]
    }
   ],
   "source": [
    "import sklearn.metrics as metrics\n",
    "fpr, tpr, threshold = metrics.roc_curve(test.classes, y_pred_VCN)\n",
    "roc_auc = metrics.auc(fpr, tpr)\n",
    "import matplotlib.pyplot as plt\n",
    "#plt.title('Receiver Operating Characteristic')\n",
    "plt.plot(fpr, tpr, 'b', label = 'AUC_CCN = %0.3f' % roc_auc)\n",
    "plt.legend(loc = 'lower right')\n",
    "plt.plot([0, 1], [0, 1],'k--')\n",
    "# plt.xlim([0, 1])\n",
    "# plt.ylim([0, 1])\n",
    "plt.ylabel('True Positive Rate')\n",
    "plt.xlabel('False Positive Rate')\n",
    "#plt.title('ROC curve_CCN')\n",
    "\n",
    "plt.show()"
   ]
  }
 ],
 "metadata": {
  "kernelspec": {
   "display_name": "Python 3",
   "language": "python",
   "name": "python3"
  },
  "language_info": {
   "codemirror_mode": {
    "name": "ipython",
    "version": 3
   },
   "file_extension": ".py",
   "mimetype": "text/x-python",
   "name": "python",
   "nbconvert_exporter": "python",
   "pygments_lexer": "ipython3",
   "version": "3.8.5"
  }
 },
 "nbformat": 4,
 "nbformat_minor": 4
}
