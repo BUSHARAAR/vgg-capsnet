{
 "cells": [
  {
   "cell_type": "code",
   "execution_count": 31,
   "metadata": {},
   "outputs": [],
   "source": [
    "# load dependencies\n",
    "from tensorflow import keras\n",
    "from tensorflow.keras import layers\n",
    "from __future__ import print_function\n",
    "import tensorflow as tf   # Using tensorflow 2.0.0\n",
    "from tensorflow.keras import layers, initializers\n",
    "from tensorflow.keras import backend as K\n",
    "from tensorflow.keras import activations\n",
    "from tensorflow.keras import utils\n",
    "from tensorflow.keras.models import Model\n",
    "from tensorflow.keras.layers import *\n",
    "from tensorflow.keras.preprocessing.image import ImageDataGenerator\n",
    "from tensorflow.keras.applications.vgg16 import VGG16, preprocess_input\n",
    "from tensorflow.keras.optimizers import RMSprop, Adam, SGD, Nadam\n",
    "from tensorflow.keras.preprocessing.image import ImageDataGenerator\n",
    "from tensorflow.keras.callbacks import ReduceLROnPlateau, ModelCheckpoint, EarlyStopping\n",
    "from tensorflow.keras import regularizers\n",
    "from tensorflow.keras.models import Sequential\n",
    "\n",
    "import numpy as np\n",
    "import pandas as pd\n",
    "import matplotlib.pyplot as plt\n",
    "import os\n",
    "\n",
    "IMG_SIZE = 299"
   ]
  },
  {
   "cell_type": "code",
   "execution_count": 32,
   "metadata": {},
   "outputs": [],
   "source": [
    "train_files = 'C:/Users/HP/documents/DATASETS/kagglelung/Data1/train'\n",
    "valid_files = 'C:/Users/HP/documents/DATASETS/kagglelung/Data1/valid'\n",
    "test_files = 'C:/Users/HP/documents/DATASETS/kagglelung/Data1/test'\n"
   ]
  },
  {
   "cell_type": "code",
   "execution_count": 33,
   "metadata": {},
   "outputs": [],
   "source": [
    "# This code block should create an instance of an ImageDataGenerator called datagen \n",
    "def DataGenerator(train_batch, val_batch, IMG_SIZE):\n",
    "    datagen = ImageDataGenerator(preprocessing_function=preprocess_input,\n",
    "                                 rescale=1./255,#rescale factor\n",
    "                                 rotation_range=10,# Degree range for random rotations.\n",
    "                                 horizontal_flip=True,#horizontal flip in images\n",
    "                                 vertical_flip=True)#vertical flip in images\n",
    "\n",
    "    datagen.mean=np.array([103.939, 116.779, 123.68],dtype=np.float32).reshape(1,1,3)\n",
    "\n",
    "    train_gen = datagen.flow_from_directory(train_files,\n",
    "                                            target_size=(IMG_SIZE, IMG_SIZE),\n",
    "                                            color_mode='rgb', \n",
    "                                            class_mode='categorical',\n",
    "                                            batch_size=train_batch)\n",
    "\n",
    "    val_gen = datagen.flow_from_directory(valid_files, \n",
    "                                          target_size=(IMG_SIZE, IMG_SIZE),\n",
    "                                          color_mode='rgb', \n",
    "                                          class_mode='categorical',\n",
    "                                          batch_size=val_batch)\n",
    "\n",
    "    datagen = ImageDataGenerator(preprocessing_function=preprocess_input,\n",
    "                                 rescale=1./255)\n",
    "    \n",
    "    datagen.mean=np.array([103.939, 116.779, 123.68],dtype=np.float32).reshape(1,1,3)\n",
    "\n",
    "    test_gen = datagen.flow_from_directory(test_files, \n",
    "                                           target_size=(IMG_SIZE, IMG_SIZE),\n",
    "                                           color_mode='rgb', \n",
    "                                           class_mode='categorical',\n",
    "                                           shuffle=False)\n",
    "    \n",
    "    return train_gen, val_gen, test_gen"
   ]
  },
  {
   "cell_type": "code",
   "execution_count": 34,
   "metadata": {},
   "outputs": [
    {
     "name": "stdout",
     "output_type": "stream",
     "text": [
      "Found 343 images belonging to 2 classes.\n",
      "Found 36 images belonging to 2 classes.\n",
      "Found 174 images belonging to 2 classes.\n"
     ]
    }
   ],
   "source": [
    "#Generating data for training using Image Generator defined above\n",
    "train_batch = 32\n",
    "val_batch = 1\n",
    "\n",
    "train, val, test = DataGenerator(train_batch, val_batch, IMG_SIZE)"
   ]
  },
  {
   "cell_type": "code",
   "execution_count": 35,
   "metadata": {},
   "outputs": [],
   "source": [
    "# the squashing function.\n",
    "\"\"\"\n",
    "The non-linear activation used in Capsule. It drives the length of a large vector to near 1 and small vector to 0\n",
    ":param vectors: some vectors to be squashed, N-dim tensor\n",
    ":param axis: the axis to squash\n",
    ":return: a Tensor with same shape as input vectors\n",
    "\"\"\"\n",
    "def squash(x, axis=-1):\n",
    "    s_squared_norm = K.sum(K.square(x), axis, keepdims=True) + K.epsilon()\n",
    "    scale = K.sqrt(s_squared_norm) / (0.5 + s_squared_norm)\n",
    "    return scale * x\n"
   ]
  },
  {
   "cell_type": "code",
   "execution_count": 36,
   "metadata": {},
   "outputs": [],
   "source": [
    "# define our own softmax function instead of K.softmax\n",
    "# because K.softmax can not specify axis.\n",
    "def softmax(x, axis=-1):\n",
    "    ex = K.exp(x - K.max(x, axis=axis, keepdims=True))\n",
    "    return ex / K.sum(ex, axis=axis, keepdims=True)"
   ]
  },
  {
   "cell_type": "code",
   "execution_count": 37,
   "metadata": {},
   "outputs": [],
   "source": [
    "def margin_loss(y_true, y_pred):\n",
    "    lamb, margin = 0.5, 0.1 #default lambda 0.5 - but test with lambda with 0.9 - 0.1\n",
    "    return K.sum(y_true * K.square(K.relu(1 - margin - y_pred)) + lamb * (\n",
    "        1 - y_true) * K.square(K.relu(y_pred - margin)), axis=-1)\n"
   ]
  },
  {
   "cell_type": "code",
   "execution_count": 38,
   "metadata": {},
   "outputs": [],
   "source": [
    "def caps_batch_dot(x, y):\n",
    "    x = K.expand_dims(x, 2)\n",
    "    if K.int_shape(x)[3] is not None:\n",
    "        y = K.permute_dimensions(y, (0, 1, 3, 2))\n",
    "    o = tf.matmul(x, y)\n",
    "    return K.squeeze(o, 2)\n",
    "\n",
    "class Capsule(Layer):\n",
    "    \"\"\"\n",
    "    The capsule layer. It is similar to Dense layer. Dense layer has `in_num` inputs, each is a scalar, the output of the \n",
    "    neuron from the former layer, and it has `out_num` output neurons. CapsuleLayer just expand the output of the neuron\n",
    "    from scalar to vector. So its input shape = [None, input_num_capsule, input_dim_capsule] and output shape = \\\n",
    "    [None, num_capsule, dim_capsule]. For Dense Layer, input_dim_capsule = dim_capsule = 1.\n",
    "    \n",
    "    :param num_capsule: number of capsules in this layer\n",
    "    :param dim_capsule: dimension of the output vectors of the capsules in this layer\n",
    "    :param routings: number of iterations for the routing algorithm\n",
    "    \"\"\"\n",
    "    def __init__(self,\n",
    "                 num_capsule,\n",
    "                 dim_capsule,\n",
    "                 routings=3,\n",
    "                 share_weights=True,\n",
    "                 activation='squash',\n",
    "                 **kwargs):\n",
    "        super(Capsule, self).__init__(**kwargs)\n",
    "        self.num_capsule = num_capsule\n",
    "        self.dim_capsule = dim_capsule\n",
    "        self.routings = routings\n",
    "        self.share_weights = share_weights\n",
    "        if activation == 'squash':\n",
    "            self.activation = squash\n",
    "        else:\n",
    "            self.activation = activations.get(activation)\n",
    "\n",
    "    def build(self, input_shape):\n",
    "        input_dim_capsule = input_shape[-1]\n",
    "        if self.share_weights:\n",
    "            self.kernel = self.add_weight(\n",
    "                name='capsule_kernel',\n",
    "                shape=(1, input_dim_capsule,\n",
    "                       self.num_capsule * self.dim_capsule),\n",
    "                initializer='glorot_uniform',\n",
    "                trainable=True)\n",
    "        else:\n",
    "            if input_shape[-2] is None:\n",
    "                raise ValueError(\"Input Shape must be defied if weights not shared.\")\n",
    "            input_num_capsule = input_shape[-2]\n",
    "            self.kernel = self.add_weight(\n",
    "                name='capsule_kernel',\n",
    "                shape=(input_num_capsule, input_dim_capsule,\n",
    "                       self.num_capsule * self.dim_capsule),\n",
    "                initializer='glorot_uniform',\n",
    "                trainable=True)\n",
    "\n",
    "    def call(self, inputs):\n",
    "        \"\"\"Following the routing algorithm from Hinton's paper,\n",
    "        but replace b = b + <u,v> with b = <u,v>.\n",
    "        This change can improve the feature representation of Capsule.\n",
    "        However, you can replace\n",
    "            b = K.batch_dot(outputs, hat_inputs, [2, 3])\n",
    "        with\n",
    "            b += K.batch_dot(outputs, hat_inputs, [2, 3])\n",
    "        to realize a standard routing.\n",
    "        \"\"\"\n",
    "\n",
    "        if self.share_weights:\n",
    "            hat_inputs = K.conv1d(inputs, self.kernel)\n",
    "        else:\n",
    "            hat_inputs = K.local_conv1d(inputs, self.kernel, [1], [1])\n",
    "\n",
    "        batch_size = K.shape(inputs)[0]\n",
    "        input_num_capsule = K.shape(inputs)[1]\n",
    "        hat_inputs = K.reshape(hat_inputs,\n",
    "                               (batch_size, input_num_capsule,\n",
    "                                self.num_capsule, self.dim_capsule))\n",
    "        hat_inputs = K.permute_dimensions(hat_inputs, (0, 2, 1, 3))\n",
    "\n",
    "        b = K.zeros_like(hat_inputs[:, :, :, 0])\n",
    "\n",
    "        \n",
    "        # Begin: Routing algorithm ---------------------------------------------------------------------#\n",
    "        # The prior for coupling coefficient, initialized as zeros.\n",
    "        # b.shape = [None, self.num_capsule, self.input_num_capsule].\n",
    "\n",
    "        for i in range(self.routings):\n",
    "            c = softmax(b, 1)\n",
    "            o = self.activation(caps_batch_dot(c, hat_inputs))\n",
    "            if i < self.routings - 1:\n",
    "                b = caps_batch_dot(o, hat_inputs)\n",
    "                if K.backend() == 'theano':\n",
    "                    o = K.sum(o, axis=1)\n",
    "        # End: Routing algorithm -----------------------------------------------------------------------#\n",
    "        return o\n",
    "\n",
    "    def compute_output_shape(self, input_shape):\n",
    "        return (None, self.num_capsule, self.dim_capsule)\n",
    "        \n",
    "    def get_config(self):\n",
    "        config = {\n",
    "            'num_capsule': self.num_capsule,\n",
    "            'dim_capsule': self.dim_capsule,\n",
    "            'routings': self.routings\n",
    "        }\n",
    "        base_config = super(Capsule, self).get_config()\n",
    "        return dict(list(base_config.items()) + list(config.items()))"
   ]
  },
  {
   "cell_type": "code",
   "execution_count": 39,
   "metadata": {},
   "outputs": [],
   "source": [
    "input_image = Input(shape=(IMG_SIZE, IMG_SIZE, 3))\n",
    "\n",
    "\n",
    "# A InceptionResNetV2 Conv2D model\n",
    "base_model = VGG16(include_top=False, weights='imagenet', input_tensor=input_image)\n",
    "#base_model.summary()"
   ]
  },
  {
   "cell_type": "code",
   "execution_count": 40,
   "metadata": {
    "scrolled": true
   },
   "outputs": [
    {
     "name": "stdout",
     "output_type": "stream",
     "text": [
      "Model: \"model_1\"\n",
      "_________________________________________________________________\n",
      "Layer (type)                 Output Shape              Param #   \n",
      "=================================================================\n",
      "input_2 (InputLayer)         [(None, 299, 299, 3)]     0         \n",
      "_________________________________________________________________\n",
      "block1_conv1 (Conv2D)        (None, 299, 299, 64)      1792      \n",
      "_________________________________________________________________\n",
      "block1_conv2 (Conv2D)        (None, 299, 299, 64)      36928     \n",
      "_________________________________________________________________\n",
      "block1_pool (MaxPooling2D)   (None, 149, 149, 64)      0         \n",
      "_________________________________________________________________\n",
      "block2_conv1 (Conv2D)        (None, 149, 149, 128)     73856     \n",
      "_________________________________________________________________\n",
      "block2_conv2 (Conv2D)        (None, 149, 149, 128)     147584    \n",
      "_________________________________________________________________\n",
      "block2_pool (MaxPooling2D)   (None, 74, 74, 128)       0         \n",
      "_________________________________________________________________\n",
      "block3_conv1 (Conv2D)        (None, 74, 74, 256)       295168    \n",
      "_________________________________________________________________\n",
      "block3_conv2 (Conv2D)        (None, 74, 74, 256)       590080    \n",
      "_________________________________________________________________\n",
      "block3_conv3 (Conv2D)        (None, 74, 74, 256)       590080    \n",
      "_________________________________________________________________\n",
      "block3_pool (MaxPooling2D)   (None, 37, 37, 256)       0         \n",
      "_________________________________________________________________\n",
      "block4_conv1 (Conv2D)        (None, 37, 37, 512)       1180160   \n",
      "_________________________________________________________________\n",
      "block4_conv2 (Conv2D)        (None, 37, 37, 512)       2359808   \n",
      "_________________________________________________________________\n",
      "block4_conv3 (Conv2D)        (None, 37, 37, 512)       2359808   \n",
      "_________________________________________________________________\n",
      "block4_pool (MaxPooling2D)   (None, 18, 18, 512)       0         \n",
      "_________________________________________________________________\n",
      "block5_conv1 (Conv2D)        (None, 18, 18, 512)       2359808   \n",
      "_________________________________________________________________\n",
      "block5_conv2 (Conv2D)        (None, 18, 18, 512)       2359808   \n",
      "_________________________________________________________________\n",
      "block5_conv3 (Conv2D)        (None, 18, 18, 512)       2359808   \n",
      "_________________________________________________________________\n",
      "block5_pool (MaxPooling2D)   (None, 9, 9, 512)         0         \n",
      "_________________________________________________________________\n",
      "conv2d_1 (Conv2D)            (None, 7, 7, 256)         1179904   \n",
      "_________________________________________________________________\n",
      "reshape_1 (Reshape)          (None, 49, 256)           0         \n",
      "_________________________________________________________________\n",
      "capsule_2 (Capsule)          (None, 32, 8)             65536     \n",
      "_________________________________________________________________\n",
      "capsule_3 (Capsule)          (None, 2, 16)             256       \n",
      "_________________________________________________________________\n",
      "lambda_1 (Lambda)            (None, 2)                 0         \n",
      "=================================================================\n",
      "Total params: 15,960,384\n",
      "Trainable params: 15,960,384\n",
      "Non-trainable params: 0\n",
      "_________________________________________________________________\n"
     ]
    }
   ],
   "source": [
    "output = Conv2D(256, kernel_size=(3, 3), strides=(1, 1), activation='relu')(base_model.get_layer(name='block5_pool').output)\n",
    "\n",
    "x = Reshape((-1, 256))(output)\n",
    "x = Capsule(32, 8, 3, True)(x)\n",
    "\n",
    "capsule = Capsule(2, 16, 4, True)(x)\n",
    "\n",
    "output = Lambda(lambda z: K.sqrt(K.sum(K.square(z), 2)))(capsule)\n",
    "\n",
    "\n",
    "model = Model(inputs=input_image, outputs=output)\n",
    "model.summary()"
   ]
  },
  {
   "cell_type": "code",
   "execution_count": 41,
   "metadata": {},
   "outputs": [],
   "source": [
    "lr=1e-4\n",
    "\n",
    "checkpoint = ModelCheckpoint(\"weights.h5\", \n",
    "                             monitor='val_loss', \n",
    "                             verbose=1, \n",
    "                             save_best_only=True, \n",
    "                             save_weights_only=False, \n",
    "                             mode='min')\n",
    "\n",
    "early = EarlyStopping(monitor='val_loss', patience=10, verbose=0, mode='min', restore_best_weights=True)\n",
    "\n",
    "callback_list = [checkpoint, early]"
   ]
  },
  {
   "cell_type": "code",
   "execution_count": 42,
   "metadata": {
    "scrolled": true
   },
   "outputs": [
    {
     "name": "stderr",
     "output_type": "stream",
     "text": [
      "C:\\anaconda\\lib\\site-packages\\tensorflow\\python\\keras\\optimizer_v2\\optimizer_v2.py:374: UserWarning: The `lr` argument is deprecated, use `learning_rate` instead.\n",
      "  warnings.warn(\n"
     ]
    },
    {
     "name": "stdout",
     "output_type": "stream",
     "text": [
      "Epoch 1/10\n",
      "10/10 [==============================] - 248s 25s/step - loss: 0.3621 - accuracy: 0.4244 - val_loss: 0.3583 - val_accuracy: 0.3611\n",
      "\n",
      "Epoch 00001: val_loss improved from inf to 0.35830, saving model to weights.h5\n",
      "Epoch 2/10\n",
      "10/10 [==============================] - 249s 25s/step - loss: 0.3454 - accuracy: 0.4469 - val_loss: 0.3298 - val_accuracy: 0.3611\n",
      "\n",
      "Epoch 00002: val_loss improved from 0.35830 to 0.32976, saving model to weights.h5\n",
      "Epoch 3/10\n",
      "10/10 [==============================] - 257s 26s/step - loss: 0.3004 - accuracy: 0.4212 - val_loss: 0.2756 - val_accuracy: 0.3611\n",
      "\n",
      "Epoch 00003: val_loss improved from 0.32976 to 0.27563, saving model to weights.h5\n",
      "Epoch 4/10\n",
      "10/10 [==============================] - 292s 30s/step - loss: 0.2254 - accuracy: 0.5723 - val_loss: 0.1221 - val_accuracy: 0.9722\n",
      "\n",
      "Epoch 00004: val_loss improved from 0.27563 to 0.12207, saving model to weights.h5\n",
      "Epoch 5/10\n",
      "10/10 [==============================] - 279s 28s/step - loss: 0.1407 - accuracy: 0.8103 - val_loss: 0.0833 - val_accuracy: 0.9722\n",
      "\n",
      "Epoch 00005: val_loss improved from 0.12207 to 0.08328, saving model to weights.h5\n",
      "Epoch 6/10\n",
      "10/10 [==============================] - 279s 27s/step - loss: 0.1166 - accuracy: 0.8682 - val_loss: 0.0527 - val_accuracy: 1.0000\n",
      "\n",
      "Epoch 00006: val_loss improved from 0.08328 to 0.05270, saving model to weights.h5\n",
      "Epoch 7/10\n",
      "10/10 [==============================] - 295s 30s/step - loss: 0.0775 - accuracy: 0.9228 - val_loss: 0.0494 - val_accuracy: 0.9722\n",
      "\n",
      "Epoch 00007: val_loss improved from 0.05270 to 0.04936, saving model to weights.h5\n",
      "Epoch 8/10\n",
      "10/10 [==============================] - 302s 31s/step - loss: 0.0663 - accuracy: 0.9228 - val_loss: 0.0315 - val_accuracy: 1.0000\n",
      "\n",
      "Epoch 00008: val_loss improved from 0.04936 to 0.03150, saving model to weights.h5\n",
      "Epoch 9/10\n",
      "10/10 [==============================] - 289s 29s/step - loss: 0.0565 - accuracy: 0.9421 - val_loss: 0.0237 - val_accuracy: 1.0000\n",
      "\n",
      "Epoch 00009: val_loss improved from 0.03150 to 0.02367, saving model to weights.h5\n",
      "Epoch 10/10\n",
      "10/10 [==============================] - 300s 30s/step - loss: 0.0575 - accuracy: 0.9421 - val_loss: 0.0177 - val_accuracy: 1.0000\n",
      "\n",
      "Epoch 00010: val_loss improved from 0.02367 to 0.01769, saving model to weights.h5\n"
     ]
    }
   ],
   "source": [
    "epochs=10\n",
    "batch_size = 32\n",
    "num_classes = 2\n",
    "\n",
    "model.compile(loss=margin_loss, optimizer=SGD(lr=lr, momentum=0.9), metrics=['accuracy'])\n",
    "\n",
    "\n",
    "history=model.fit(train,\n",
    "          epochs=epochs,\n",
    "          validation_data=val, \n",
    "          validation_steps = len(val.classes)//val_batch,\n",
    "          steps_per_epoch=len(train.classes)//train_batch,\n",
    "          callbacks=callback_list\n",
    "          )"
   ]
  },
  {
   "cell_type": "code",
   "execution_count": 43,
   "metadata": {},
   "outputs": [
    {
     "name": "stderr",
     "output_type": "stream",
     "text": [
      "C:\\anaconda\\lib\\site-packages\\tensorflow\\python\\keras\\engine\\training.py:1973: UserWarning: `Model.evaluate_generator` is deprecated and will be removed in a future version. Please use `Model.evaluate`, which supports generators.\n",
      "  warnings.warn('`Model.evaluate_generator` is deprecated and '\n"
     ]
    },
    {
     "name": "stdout",
     "output_type": "stream",
     "text": [
      "\n",
      "\n",
      "================================\n",
      "\n",
      "\n",
      "Loss: 0.09218011796474457\n",
      "Accuracy: 95.40 %\n",
      "\n",
      "\n",
      "================================\n",
      "\n",
      "\n"
     ]
    }
   ],
   "source": [
    "loss, acc = model.evaluate_generator(test, len(test))\n",
    "\n",
    "print (\"\\n\\n================================\\n\\n\")\n",
    "print (\"Loss: {}\".format(loss))\n",
    "print (\"Accuracy: {0:.2f} %\".format(acc * 100))\n",
    "print (\"\\n\\n================================\\n\\n\")\n",
    "\n",
    "\n",
    "test.reset()"
   ]
  },
  {
   "cell_type": "code",
   "execution_count": 44,
   "metadata": {},
   "outputs": [
    {
     "data": {
      "image/png": "[encoded data removed]",
      "text/plain": [
       "<Figure size 432x288 with 1 Axes>"
      ]
     },
     "metadata": {
      "needs_background": "light"
     },
     "output_type": "display_data"
    }
   ],
   "source": [
    "plt.plot(history.history['accuracy'])\n",
    "plt.plot(history.history['val_accuracy'])\n",
    "#plt.title('model accuracy')\n",
    "plt.ylabel('Accuracy')\n",
    "plt.xlabel('Epochs')\n",
    "plt.legend(['Training Accuracy', 'Validation Accuracy'], loc='upper left')\n",
    "plt.show()"
   ]
  },
  {
   "cell_type": "code",
   "execution_count": 45,
   "metadata": {},
   "outputs": [
    {
     "data": {
      "image/png": "[encoded data removed]",
      "text/plain": [
       "<Figure size 432x288 with 1 Axes>"
      ]
     },
     "metadata": {
      "needs_background": "light"
     },
     "output_type": "display_data"
    }
   ],
   "source": [
    "plt.plot(history.history['loss'])\n",
    "plt.plot(history.history['val_loss'])\n",
    "#plt.title('model loss')\n",
    "plt.ylabel('Loss')\n",
    "plt.xlabel('Epochs')\n",
    "plt.legend(['Training Loss', 'Validation Loss'], loc='upper left')\n",
    "plt.show()"
   ]
  },
  {
   "cell_type": "code",
   "execution_count": 46,
   "metadata": {},
   "outputs": [
    {
     "name": "stdout",
     "output_type": "stream",
     "text": [
      "6/6 [==============================] - 41s 7s/step - loss: 0.0922 - accuracy: 0.9540\n",
      "The testing accuracy is : 95.4023003578186 %\n"
     ]
    }
   ],
   "source": [
    "test_accu = model.evaluate(test)\n",
    "print('The testing accuracy is :',test_accu[1]*100, '%')"
   ]
  },
  {
   "cell_type": "code",
   "execution_count": 47,
   "metadata": {},
   "outputs": [
    {
     "name": "stdout",
     "output_type": "stream",
     "text": [
      "6/6 [==============================] - 41s 7s/step\n"
     ]
    }
   ],
   "source": [
    "preds = model.predict(test,verbose=1)\n",
    "predictions = preds.copy()\n",
    "predictions[predictions <= 0.5] = 0\n",
    "predictions[predictions > 0.5] = 1"
   ]
  },
  {
   "cell_type": "code",
   "execution_count": 48,
   "metadata": {},
   "outputs": [
    {
     "name": "stdout",
     "output_type": "stream",
     "text": [
      "Confusion Matrix\n",
      "[[113   7]\n",
      " [  1  53]]\n"
     ]
    }
   ],
   "source": [
    "#Confusion Matrix and Classification Report\n",
    "from sklearn.metrics import classification_report\n",
    "from sklearn.metrics import confusion_matrix\n",
    "\n",
    "#Y_pred = model.predict_generator(validation_generator, nb_validation_samples // \n",
    "#batch_size+1)\n",
    "y_pred = np.argmax(preds, axis=1)\n",
    "\n",
    "print('Confusion Matrix')\n",
    "print(confusion_matrix(test.classes, y_pred))\n"
   ]
  },
  {
   "cell_type": "code",
   "execution_count": 49,
   "metadata": {},
   "outputs": [
    {
     "name": "stdout",
     "output_type": "stream",
     "text": [
      "Classification Report\n",
      "              precision    recall  f1-score   support\n",
      "\n",
      "      Benign       0.99      0.94      0.97       120\n",
      "   Malignant       0.88      0.98      0.93        54\n",
      "\n",
      "    accuracy                           0.95       174\n",
      "   macro avg       0.94      0.96      0.95       174\n",
      "weighted avg       0.96      0.95      0.95       174\n",
      "\n"
     ]
    }
   ],
   "source": [
    "print('Classification Report')\n",
    "target_names = ['Benign', 'Malignant']\n",
    "print(classification_report(test.classes, y_pred, target_names=target_names))"
   ]
  },
  {
   "cell_type": "code",
   "execution_count": 50,
   "metadata": {},
   "outputs": [
    {
     "data": {
      "text/plain": [
       "(0.8833333333333333, 0.9814814814814815, 0.9298245614035088)"
      ]
     },
     "execution_count": 50,
     "metadata": {},
     "output_type": "execute_result"
    }
   ],
   "source": [
    "from sklearn.metrics import precision_score, recall_score\n",
    "from sklearn.metrics import f1_score\n",
    "\n",
    "precision_score(test.classes, y_pred) , recall_score(test.classes, y_pred) ,  f1_score(test.classes, y_pred)"
   ]
  },
  {
   "cell_type": "code",
   "execution_count": 51,
   "metadata": {},
   "outputs": [
    {
     "data": {
      "text/plain": [
       "<AxesSubplot:>"
      ]
     },
     "execution_count": 51,
     "metadata": {},
     "output_type": "execute_result"
    },
    {
     "data": {
      "image/png": "[encoded data removed]",
      "text/plain": [
       "<Figure size 432x288 with 2 Axes>"
      ]
     },
     "metadata": {
      "needs_background": "light"
     },
     "output_type": "display_data"
    }
   ],
   "source": [
    "from sklearn.metrics import classification_report,confusion_matrix\n",
    "cm = pd.DataFrame(data=confusion_matrix( y_true= test.classes, y_pred= y_pred, labels=[0, 1]), index=[\"Actual ADC\", \"Actual Normal\"],columns=[\"Predicted ADC\", \"Predicted Normal\"])\n",
    "import seaborn as sns\n",
    "import seaborn as sns\n",
    "sns.heatmap(cm,annot=True,fmt=\"d\")"
   ]
  },
  {
   "cell_type": "code",
   "execution_count": 52,
   "metadata": {},
   "outputs": [
    {
     "data": {
      "text/plain": [
       "<AxesSubplot:>"
      ]
     },
     "execution_count": 52,
     "metadata": {},
     "output_type": "execute_result"
    },
    {
     "data": {
      "image/png": "[encoded data removed]",
      "text/plain": [
       "<Figure size 432x288 with 2 Axes>"
      ]
     },
     "metadata": {
      "needs_background": "light"
     },
     "output_type": "display_data"
    }
   ],
   "source": [
    "from sklearn.metrics import classification_report,confusion_matrix\n",
    "cm = pd.DataFrame(data=confusion_matrix( y_true= test.classes, y_pred= y_pred, labels=[0, 1]), index=[\"Actual ADC\", \"Actual Normal\"],columns=[\"Predicted ADC\", \"Predicted Normal\"])\n",
    "import seaborn as sns\n",
    "sns.heatmap(cm,annot=True,fmt=\"d\",cmap=\"YlGnBu\")"
   ]
  },
  {
   "cell_type": "code",
   "execution_count": 53,
   "metadata": {},
   "outputs": [],
   "source": [
    "from sklearn.datasets import make_classification\n",
    "from sklearn.linear_model import LogisticRegression\n",
    "from sklearn.model_selection import train_test_split\n",
    "from sklearn.metrics import roc_curve\n",
    "from matplotlib import pyplot\n",
    "import sklearn.metrics as metrics"
   ]
  },
  {
   "cell_type": "code",
   "execution_count": 54,
   "metadata": {},
   "outputs": [
    {
     "data": {
      "image/png": "[encoded data removed]",
      "text/plain": [
       "<Figure size 432x288 with 1 Axes>"
      ]
     },
     "metadata": {
      "needs_background": "light"
     },
     "output_type": "display_data"
    }
   ],
   "source": [
    "fpr, tpr, threshold = metrics.roc_curve(test.classes, y_pred)\n",
    "roc_auc = metrics.auc(fpr, tpr)\n",
    "import matplotlib.pyplot as plt\n",
    "plt.title('Receiver Operating Characteristic')\n",
    "plt.plot(fpr, tpr, 'b', label = 'AUC = %0.2f' % roc_auc)\n",
    "plt.legend(loc = 'lower right')\n",
    "plt.plot([0, 1], [0, 1],'r--')\n",
    "plt.xlim([0, 1])\n",
    "plt.ylim([0, 1])\n",
    "plt.ylabel('True Positive Rate')\n",
    "plt.xlabel('False Positive Rate')\n",
    "plt.show()"
   ]
  },
  {
   "cell_type": "code",
   "execution_count": 55,
   "metadata": {},
   "outputs": [
    {
     "data": {
      "image/png": "[encoded data removed]",
      "text/plain": [
       "<Figure size 432x288 with 1 Axes>"
      ]
     },
     "metadata": {
      "needs_background": "light"
     },
     "output_type": "display_data"
    }
   ],
   "source": [
    "import sklearn.metrics as metrics\n",
    "pyplot.plot([0, 1], [0, 1], linestyle='--')\n",
    "fpr, tpr, threshold = metrics.roc_curve(test.classes, y_pred)\n",
    "roc_auc = metrics.auc(fpr, tpr)\n",
    "\n",
    "# plot model roc curve\n",
    "plt.plot(fpr, tpr, 'b', label = 'AUC(Lung Vgg Caps) = %0.2f' % roc_auc)\n",
    "# axis labels\n",
    "pyplot.xlabel('False Positive Rate')\n",
    "pyplot.ylabel('True Positive Rate')\n",
    "# show the legend\n",
    "pyplot.legend()\n",
    "plt.legend(loc=\"lower right\")\n",
    "#pyplot.title('ROC curve for classification using VGGCapsNet')\n",
    "# show the plot\n",
    "pyplot.show()"
   ]
  },
  {
   "cell_type": "code",
   "execution_count": 56,
   "metadata": {},
   "outputs": [
    {
     "data": {
      "text/plain": [
       "array([0, 0, 0, 0, 0, 0, 0, 0, 0, 0, 0, 0, 0, 0, 0, 0, 0, 0, 0, 0, 0, 0,\n",
       "       0, 0, 0, 0, 0, 0, 0, 0, 0, 0, 0, 0, 0, 0, 0, 0, 0, 0, 0, 0, 0, 0,\n",
       "       0, 0, 0, 0, 0, 0, 0, 0, 0, 0, 0, 0, 0, 0, 0, 0, 0, 0, 0, 0, 0, 0,\n",
       "       0, 0, 0, 0, 0, 0, 0, 0, 0, 0, 0, 0, 0, 0, 0, 0, 0, 0, 0, 0, 0, 0,\n",
       "       0, 0, 0, 0, 0, 0, 0, 0, 0, 0, 0, 0, 0, 0, 0, 0, 0, 0, 0, 0, 0, 0,\n",
       "       0, 0, 0, 0, 0, 0, 0, 0, 0, 0, 1, 1, 1, 1, 1, 1, 1, 1, 1, 1, 1, 1,\n",
       "       1, 1, 1, 1, 1, 1, 1, 1, 1, 1, 1, 1, 1, 1, 1, 1, 1, 1, 1, 1, 1, 1,\n",
       "       1, 1, 1, 1, 1, 1, 1, 1, 1, 1, 1, 1, 1, 1, 1, 1, 1, 1, 1, 1])"
      ]
     },
     "execution_count": 56,
     "metadata": {},
     "output_type": "execute_result"
    }
   ],
   "source": [
    "test.classes"
   ]
  },
  {
   "cell_type": "code",
   "execution_count": 57,
   "metadata": {},
   "outputs": [
    {
     "data": {
      "text/plain": [
       "array([0, 0, 0, 0, 0, 0, 0, 0, 1, 0, 0, 0, 0, 0, 0, 0, 0, 1, 0, 0, 0, 0,\n",
       "       0, 0, 0, 0, 0, 0, 0, 0, 0, 0, 0, 0, 0, 0, 0, 0, 0, 0, 0, 0, 0, 0,\n",
       "       0, 0, 0, 0, 0, 0, 0, 0, 0, 0, 0, 0, 1, 0, 0, 0, 0, 0, 0, 0, 0, 0,\n",
       "       0, 0, 0, 0, 0, 0, 0, 0, 0, 0, 0, 0, 0, 0, 0, 0, 0, 0, 0, 0, 0, 0,\n",
       "       0, 0, 0, 0, 1, 0, 1, 1, 0, 0, 0, 0, 0, 0, 0, 0, 0, 0, 1, 0, 0, 0,\n",
       "       0, 0, 0, 0, 0, 0, 0, 0, 0, 0, 1, 1, 1, 1, 1, 1, 1, 1, 1, 1, 1, 1,\n",
       "       1, 1, 1, 1, 1, 1, 1, 1, 1, 1, 1, 1, 0, 1, 1, 1, 1, 1, 1, 1, 1, 1,\n",
       "       1, 1, 1, 1, 1, 1, 1, 1, 1, 1, 1, 1, 1, 1, 1, 1, 1, 1, 1, 1],\n",
       "      dtype=int64)"
      ]
     },
     "execution_count": 57,
     "metadata": {},
     "output_type": "execute_result"
    }
   ],
   "source": [
    "y_pred"
   ]
  },
  {
   "cell_type": "code",
   "execution_count": 58,
   "metadata": {},
   "outputs": [
    {
     "data": {
      "text/plain": [
       "array([[0.75366807, 0.6156041 ],\n",
       "       [0.83869904, 0.37237957],\n",
       "       [0.7815133 , 0.6181511 ],\n",
       "       [0.75733364, 0.69158703],\n",
       "       [0.85256726, 0.5433283 ],\n",
       "       [0.81154835, 0.5976217 ],\n",
       "       [0.8164351 , 0.41421384],\n",
       "       [0.8456106 , 0.47365108],\n",
       "       [0.613529  , 0.6798188 ],\n",
       "       [0.8301501 , 0.5744828 ],\n",
       "       [0.8635775 , 0.30358487],\n",
       "       [0.81239635, 0.58554345],\n",
       "       [0.80800307, 0.5844874 ],\n",
       "       [0.82961684, 0.30955818],\n",
       "       [0.8676863 , 0.43690002],\n",
       "       [0.86713135, 0.34214044],\n",
       "       [0.8528259 , 0.37603885],\n",
       "       [0.71234465, 0.7143089 ],\n",
       "       [0.7509125 , 0.5923174 ],\n",
       "       [0.837667  , 0.37853533],\n",
       "       [0.7796879 , 0.6795232 ],\n",
       "       [0.8516355 , 0.19614226],\n",
       "       [0.8257168 , 0.60691935],\n",
       "       [0.80625325, 0.4270487 ],\n",
       "       [0.829184  , 0.5626148 ],\n",
       "       [0.8310184 , 0.5863096 ],\n",
       "       [0.8178712 , 0.62181985],\n",
       "       [0.78645515, 0.5669684 ],\n",
       "       [0.8014727 , 0.4972021 ],\n",
       "       [0.827125  , 0.59794945],\n",
       "       [0.79246014, 0.6054194 ],\n",
       "       [0.859439  , 0.45307615],\n",
       "       [0.8384024 , 0.6102351 ],\n",
       "       [0.830812  , 0.22951218],\n",
       "       [0.8443244 , 0.5042159 ],\n",
       "       [0.7887056 , 0.5877965 ],\n",
       "       [0.77089477, 0.63140935],\n",
       "       [0.81687164, 0.71243167],\n",
       "       [0.7988335 , 0.6523134 ],\n",
       "       [0.84295505, 0.54596025],\n",
       "       [0.79764867, 0.7053866 ],\n",
       "       [0.7392821 , 0.64941275],\n",
       "       [0.83663154, 0.54701173],\n",
       "       [0.85694945, 0.48609716],\n",
       "       [0.7824909 , 0.66500145],\n",
       "       [0.8636921 , 0.5068439 ],\n",
       "       [0.82189476, 0.53126496],\n",
       "       [0.83255655, 0.35041943],\n",
       "       [0.7980088 , 0.66843385],\n",
       "       [0.83040196, 0.6996291 ],\n",
       "       [0.81435025, 0.5063802 ],\n",
       "       [0.8282743 , 0.6001701 ],\n",
       "       [0.8059251 , 0.51770586],\n",
       "       [0.8029079 , 0.6705913 ],\n",
       "       [0.83799976, 0.5896158 ],\n",
       "       [0.715968  , 0.6959331 ],\n",
       "       [0.6830219 , 0.7541205 ],\n",
       "       [0.7934213 , 0.606026  ],\n",
       "       [0.82544893, 0.38218743],\n",
       "       [0.77514666, 0.6999487 ],\n",
       "       [0.8239074 , 0.43394956],\n",
       "       [0.77763796, 0.5456623 ],\n",
       "       [0.85208833, 0.5655112 ],\n",
       "       [0.847569  , 0.5467617 ],\n",
       "       [0.8417351 , 0.51977295],\n",
       "       [0.8273462 , 0.676644  ],\n",
       "       [0.8403787 , 0.51014334],\n",
       "       [0.8563678 , 0.4603418 ],\n",
       "       [0.86370426, 0.37700978],\n",
       "       [0.764374  , 0.66065633],\n",
       "       [0.8531344 , 0.4186842 ],\n",
       "       [0.7746225 , 0.64181864],\n",
       "       [0.8582101 , 0.50399846],\n",
       "       [0.87675476, 0.47196385],\n",
       "       [0.8298905 , 0.6641222 ],\n",
       "       [0.8109729 , 0.5728185 ],\n",
       "       [0.8278775 , 0.517769  ],\n",
       "       [0.86041874, 0.39145094],\n",
       "       [0.83015907, 0.34834608],\n",
       "       [0.8740777 , 0.31794143],\n",
       "       [0.8781311 , 0.27548233],\n",
       "       [0.86790633, 0.56124616],\n",
       "       [0.84493536, 0.40325585],\n",
       "       [0.8224793 , 0.5585968 ],\n",
       "       [0.72083944, 0.71072036],\n",
       "       [0.78751034, 0.47879195],\n",
       "       [0.84524363, 0.40302134],\n",
       "       [0.82602924, 0.5306285 ],\n",
       "       [0.85465777, 0.28167516],\n",
       "       [0.80488795, 0.54493666],\n",
       "       [0.6942545 , 0.651867  ],\n",
       "       [0.8216613 , 0.510258  ],\n",
       "       [0.6027386 , 0.74098456],\n",
       "       [0.75430536, 0.25498864],\n",
       "       [0.706348  , 0.7311925 ],\n",
       "       [0.60489714, 0.6766818 ],\n",
       "       [0.8106909 , 0.47298807],\n",
       "       [0.78548   , 0.6978483 ],\n",
       "       [0.8759431 , 0.32247755],\n",
       "       [0.75732106, 0.50975895],\n",
       "       [0.82036465, 0.6073253 ],\n",
       "       [0.86838037, 0.11128812],\n",
       "       [0.7694273 , 0.66204214],\n",
       "       [0.79432476, 0.60332006],\n",
       "       [0.8232016 , 0.62004876],\n",
       "       [0.82953286, 0.6332504 ],\n",
       "       [0.71310216, 0.78075826],\n",
       "       [0.85503507, 0.29036716],\n",
       "       [0.81166416, 0.7298311 ],\n",
       "       [0.69920087, 0.62003106],\n",
       "       [0.80888045, 0.6591416 ],\n",
       "       [0.6447015 , 0.6392823 ],\n",
       "       [0.7706953 , 0.67347175],\n",
       "       [0.7665468 , 0.6847561 ],\n",
       "       [0.711863  , 0.6969218 ],\n",
       "       [0.82906425, 0.38620389],\n",
       "       [0.8700665 , 0.36197802],\n",
       "       [0.7528421 , 0.70482224],\n",
       "       [0.8289392 , 0.4776617 ],\n",
       "       [0.8653016 , 0.12233963],\n",
       "       [0.390064  , 0.7579559 ],\n",
       "       [0.390064  , 0.7579559 ],\n",
       "       [0.19571073, 0.7308836 ],\n",
       "       [0.19571073, 0.7308836 ],\n",
       "       [0.21215324, 0.72455865],\n",
       "       [0.21975532, 0.7297644 ],\n",
       "       [0.21975532, 0.7297644 ],\n",
       "       [0.21215324, 0.72455865],\n",
       "       [0.15052497, 0.8483359 ],\n",
       "       [0.15052497, 0.8483359 ],\n",
       "       [0.10036794, 0.8291635 ],\n",
       "       [0.10036794, 0.8291635 ],\n",
       "       [0.1405398 , 0.84779114],\n",
       "       [0.1162196 , 0.8216431 ],\n",
       "       [0.1162196 , 0.8216431 ],\n",
       "       [0.1405398 , 0.84779114],\n",
       "       [0.20972662, 0.8710996 ],\n",
       "       [0.20972662, 0.8710996 ],\n",
       "       [0.09222063, 0.8599744 ],\n",
       "       [0.09222063, 0.8599744 ],\n",
       "       [0.18105112, 0.86745334],\n",
       "       [0.12317163, 0.8666674 ],\n",
       "       [0.12317163, 0.8666674 ],\n",
       "       [0.14703755, 0.86405087],\n",
       "       [0.787509  , 0.26645005],\n",
       "       [0.46590823, 0.71286625],\n",
       "       [0.37814802, 0.8116932 ],\n",
       "       [0.36607066, 0.8086634 ],\n",
       "       [0.24819337, 0.845718  ],\n",
       "       [0.3141057 , 0.8205774 ],\n",
       "       [0.3141057 , 0.8205774 ],\n",
       "       [0.15755378, 0.81992394],\n",
       "       [0.15755378, 0.81992394],\n",
       "       [0.3141057 , 0.8205774 ],\n",
       "       [0.15755378, 0.81992394],\n",
       "       [0.3141057 , 0.8205774 ],\n",
       "       [0.4780776 , 0.8391817 ],\n",
       "       [0.4780776 , 0.8391817 ],\n",
       "       [0.30929232, 0.82981324],\n",
       "       [0.30929232, 0.82981324],\n",
       "       [0.4780776 , 0.8391817 ],\n",
       "       [0.30929232, 0.82981324],\n",
       "       [0.30929232, 0.82981324],\n",
       "       [0.4780776 , 0.8391817 ],\n",
       "       [0.16444765, 0.81060314],\n",
       "       [0.16444765, 0.81060314],\n",
       "       [0.1244758 , 0.8033013 ],\n",
       "       [0.1244758 , 0.8033013 ],\n",
       "       [0.13852742, 0.8083437 ],\n",
       "       [0.1244758 , 0.8033013 ],\n",
       "       [0.1244758 , 0.8033013 ],\n",
       "       [0.13852742, 0.8083437 ],\n",
       "       [0.35196385, 0.780941  ],\n",
       "       [0.1721805 , 0.8723369 ]], dtype=float32)"
      ]
     },
     "execution_count": 58,
     "metadata": {},
     "output_type": "execute_result"
    }
   ],
   "source": [
    "preds"
   ]
  },
  {
   "cell_type": "code",
   "execution_count": 59,
   "metadata": {},
   "outputs": [
    {
     "name": "stdout",
     "output_type": "stream",
     "text": [
      "0.6156041\n",
      "0.37237957\n",
      "0.6181511\n",
      "0.69158703\n",
      "0.5433283\n",
      "0.5976217\n",
      "0.41421384\n",
      "0.47365108\n",
      "0.6798188\n",
      "0.5744828\n",
      "0.30358487\n",
      "0.58554345\n",
      "0.5844874\n",
      "0.30955818\n",
      "0.43690002\n",
      "0.34214044\n",
      "0.37603885\n",
      "0.7143089\n",
      "0.5923174\n",
      "0.37853533\n",
      "0.6795232\n",
      "0.19614226\n",
      "0.60691935\n",
      "0.4270487\n",
      "0.5626148\n",
      "0.5863096\n",
      "0.62181985\n",
      "0.5669684\n",
      "0.4972021\n",
      "0.59794945\n",
      "0.6054194\n",
      "0.45307615\n",
      "0.6102351\n",
      "0.22951218\n",
      "0.5042159\n",
      "0.5877965\n",
      "0.63140935\n",
      "0.71243167\n",
      "0.6523134\n",
      "0.54596025\n",
      "0.7053866\n",
      "0.64941275\n",
      "0.54701173\n",
      "0.48609716\n",
      "0.66500145\n",
      "0.5068439\n",
      "0.53126496\n",
      "0.35041943\n",
      "0.66843385\n",
      "0.6996291\n",
      "0.5063802\n",
      "0.6001701\n",
      "0.51770586\n",
      "0.6705913\n",
      "0.5896158\n",
      "0.6959331\n",
      "0.7541205\n",
      "0.606026\n",
      "0.38218743\n",
      "0.6999487\n",
      "0.43394956\n",
      "0.5456623\n",
      "0.5655112\n",
      "0.5467617\n",
      "0.51977295\n",
      "0.676644\n",
      "0.51014334\n",
      "0.4603418\n",
      "0.37700978\n",
      "0.66065633\n",
      "0.4186842\n",
      "0.64181864\n",
      "0.50399846\n",
      "0.47196385\n",
      "0.6641222\n",
      "0.5728185\n",
      "0.517769\n",
      "0.39145094\n",
      "0.34834608\n",
      "0.31794143\n",
      "0.27548233\n",
      "0.56124616\n",
      "0.40325585\n",
      "0.5585968\n",
      "0.71072036\n",
      "0.47879195\n",
      "0.40302134\n",
      "0.5306285\n",
      "0.28167516\n",
      "0.54493666\n",
      "0.651867\n",
      "0.510258\n",
      "0.74098456\n",
      "0.25498864\n",
      "0.7311925\n",
      "0.6766818\n",
      "0.47298807\n",
      "0.6978483\n",
      "0.32247755\n",
      "0.50975895\n",
      "0.6073253\n",
      "0.11128812\n",
      "0.66204214\n",
      "0.60332006\n",
      "0.62004876\n",
      "0.6332504\n",
      "0.78075826\n",
      "0.29036716\n",
      "0.7298311\n",
      "0.62003106\n",
      "0.6591416\n",
      "0.6392823\n",
      "0.67347175\n",
      "0.6847561\n",
      "0.6969218\n",
      "0.38620389\n",
      "0.36197802\n",
      "0.70482224\n",
      "0.4776617\n",
      "0.12233963\n",
      "0.7579559\n",
      "0.7579559\n",
      "0.7308836\n",
      "0.7308836\n",
      "0.72455865\n",
      "0.7297644\n",
      "0.7297644\n",
      "0.72455865\n",
      "0.8483359\n",
      "0.8483359\n",
      "0.8291635\n",
      "0.8291635\n",
      "0.84779114\n",
      "0.8216431\n",
      "0.8216431\n",
      "0.84779114\n",
      "0.8710996\n",
      "0.8710996\n",
      "0.8599744\n",
      "0.8599744\n",
      "0.86745334\n",
      "0.8666674\n",
      "0.8666674\n",
      "0.86405087\n",
      "0.26645005\n",
      "0.71286625\n",
      "0.8116932\n",
      "0.8086634\n",
      "0.845718\n",
      "0.8205774\n",
      "0.8205774\n",
      "0.81992394\n",
      "0.81992394\n",
      "0.8205774\n",
      "0.81992394\n",
      "0.8205774\n",
      "0.8391817\n",
      "0.8391817\n",
      "0.82981324\n",
      "0.82981324\n",
      "0.8391817\n",
      "0.82981324\n",
      "0.82981324\n",
      "0.8391817\n",
      "0.81060314\n",
      "0.81060314\n",
      "0.8033013\n",
      "0.8033013\n",
      "0.8083437\n",
      "0.8033013\n",
      "0.8033013\n",
      "0.8083437\n",
      "0.780941\n",
      "0.8723369\n"
     ]
    }
   ],
   "source": [
    "k = np.array(preds)\n",
    "\n",
    "for i in range(len(k)):\n",
    "    print(k[i,1])"
   ]
  },
  {
   "cell_type": "code",
   "execution_count": 60,
   "metadata": {},
   "outputs": [
    {
     "ename": "NameError",
     "evalue": "name 'y_pred_VCN' is not defined",
     "output_type": "error",
     "traceback": [
      "\u001b[1;31m---------------------------------------------------------------------------\u001b[0m",
      "\u001b[1;31mNameError\u001b[0m                                 Traceback (most recent call last)",
      "\u001b[1;32m<ipython-input-60-05c79081340d>\u001b[0m in \u001b[0;36m<module>\u001b[1;34m\u001b[0m\n\u001b[0;32m      1\u001b[0m \u001b[1;32mimport\u001b[0m \u001b[0msklearn\u001b[0m\u001b[1;33m.\u001b[0m\u001b[0mmetrics\u001b[0m \u001b[1;32mas\u001b[0m \u001b[0mmetrics\u001b[0m\u001b[1;33m\u001b[0m\u001b[1;33m\u001b[0m\u001b[0m\n\u001b[1;32m----> 2\u001b[1;33m \u001b[0mfpr\u001b[0m\u001b[1;33m,\u001b[0m \u001b[0mtpr\u001b[0m\u001b[1;33m,\u001b[0m \u001b[0mthreshold\u001b[0m \u001b[1;33m=\u001b[0m \u001b[0mmetrics\u001b[0m\u001b[1;33m.\u001b[0m\u001b[0mroc_curve\u001b[0m\u001b[1;33m(\u001b[0m\u001b[0mtest\u001b[0m\u001b[1;33m.\u001b[0m\u001b[0mclasses\u001b[0m\u001b[1;33m,\u001b[0m \u001b[0my_pred_VCN\u001b[0m\u001b[1;33m)\u001b[0m\u001b[1;33m\u001b[0m\u001b[1;33m\u001b[0m\u001b[0m\n\u001b[0m\u001b[0;32m      3\u001b[0m \u001b[0mroc_auc\u001b[0m \u001b[1;33m=\u001b[0m \u001b[0mmetrics\u001b[0m\u001b[1;33m.\u001b[0m\u001b[0mauc\u001b[0m\u001b[1;33m(\u001b[0m\u001b[0mfpr\u001b[0m\u001b[1;33m,\u001b[0m \u001b[0mtpr\u001b[0m\u001b[1;33m)\u001b[0m\u001b[1;33m\u001b[0m\u001b[1;33m\u001b[0m\u001b[0m\n\u001b[0;32m      4\u001b[0m \u001b[1;32mimport\u001b[0m \u001b[0mmatplotlib\u001b[0m\u001b[1;33m.\u001b[0m\u001b[0mpyplot\u001b[0m \u001b[1;32mas\u001b[0m \u001b[0mplt\u001b[0m\u001b[1;33m\u001b[0m\u001b[1;33m\u001b[0m\u001b[0m\n\u001b[0;32m      5\u001b[0m \u001b[1;31m#plt.title('Receiver Operating Characteristic')\u001b[0m\u001b[1;33m\u001b[0m\u001b[1;33m\u001b[0m\u001b[1;33m\u001b[0m\u001b[0m\n",
      "\u001b[1;31mNameError\u001b[0m: name 'y_pred_VCN' is not defined"
     ]
    }
   ],
   "source": [
    "import sklearn.metrics as metrics\n",
    "fpr, tpr, threshold = metrics.roc_curve(test.classes, y_pred_VCN)\n",
    "roc_auc = metrics.auc(fpr, tpr)\n",
    "import matplotlib.pyplot as plt\n",
    "#plt.title('Receiver Operating Characteristic')\n",
    "plt.plot(fpr, tpr, 'b', label = 'AUC_CCN = %0.3f' % roc_auc)\n",
    "plt.legend(loc = 'lower right')\n",
    "plt.plot([0, 1], [0, 1],'k--')\n",
    "# plt.xlim([0, 1])\n",
    "# plt.ylim([0, 1])\n",
    "plt.ylabel('True Positive Rate')\n",
    "plt.xlabel('False Positive Rate')\n",
    "#plt.title('ROC curve_CCN')\n",
    "\n",
    "plt.show()"
   ]
  }
 ],
 "metadata": {
  "kernelspec": {
   "display_name": "Python 3",
   "language": "python",
   "name": "python3"
  },
  "language_info": {
   "codemirror_mode": {
    "name": "ipython",
    "version": 3
   },
   "file_extension": ".py",
   "mimetype": "text/x-python",
   "name": "python",
   "nbconvert_exporter": "python",
   "pygments_lexer": "ipython3",
   "version": "3.8.5"
  }
 },
 "nbformat": 4,
 "nbformat_minor": 4
}
