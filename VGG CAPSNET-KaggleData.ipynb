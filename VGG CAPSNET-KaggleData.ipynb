{
 "cells": [
  {
   "cell_type": "code",
   "execution_count": 32,
   "metadata": {},
   "outputs": [],
   "source": [
    "# load dependencies\n",
    "from tensorflow import keras\n",
    "from tensorflow.keras import layers\n",
    "from __future__ import print_function\n",
    "import tensorflow as tf   # Using tensorflow 2.0.0\n",
    "from tensorflow.keras import layers, initializers\n",
    "from tensorflow.keras import backend as K\n",
    "from tensorflow.keras import activations\n",
    "from tensorflow.keras import utils\n",
    "from tensorflow.keras.models import Model\n",
    "from tensorflow.keras.layers import *\n",
    "from tensorflow.keras.preprocessing.image import ImageDataGenerator\n",
    "from tensorflow.keras.applications.vgg16 import VGG16, preprocess_input\n",
    "from tensorflow.keras.optimizers import RMSprop, Adam, SGD, Nadam\n",
    "from tensorflow.keras.preprocessing.image import ImageDataGenerator\n",
    "from tensorflow.keras.callbacks import ReduceLROnPlateau, ModelCheckpoint, EarlyStopping\n",
    "from tensorflow.keras import regularizers\n",
    "from tensorflow.keras.models import Sequential\n",
    "\n",
    "import numpy as np\n",
    "import pandas as pd\n",
    "import matplotlib.pyplot as plt\n",
    "import os\n",
    "\n",
    "IMG_SIZE = 299"
   ]
  },
  {
   "cell_type": "code",
   "execution_count": 33,
   "metadata": {},
   "outputs": [],
   "source": [
    "train_files = 'C:/Users/HP/documents/DATASETS/kagglelung/Data1/train'\n",
    "valid_files = 'C:/Users/HP/documents/DATASETS/kagglelung/Data1/valid'\n",
    "test_files = 'C:/Users/HP/documents/DATASETS/kagglelung/Data1/test'\n"
   ]
  },
  {
   "cell_type": "code",
   "execution_count": 34,
   "metadata": {},
   "outputs": [],
   "source": [
    "# This code block should create an instance of an ImageDataGenerator called datagen \n",
    "def DataGenerator(train_batch, val_batch, IMG_SIZE):\n",
    "    datagen = ImageDataGenerator(preprocessing_function=preprocess_input,\n",
    "                                 rescale=1./255,#rescale factor\n",
    "                                 rotation_range=10,# Degree range for random rotations.\n",
    "                                 horizontal_flip=True,#horizontal flip in images\n",
    "                                 vertical_flip=True)#vertical flip in images\n",
    "\n",
    "    datagen.mean=np.array([103.939, 116.779, 123.68],dtype=np.float32).reshape(1,1,3)\n",
    "\n",
    "    train_gen = datagen.flow_from_directory(train_files,\n",
    "                                            target_size=(IMG_SIZE, IMG_SIZE),\n",
    "                                            color_mode='rgb', \n",
    "                                            class_mode='categorical',\n",
    "                                            batch_size=train_batch)\n",
    "\n",
    "    val_gen = datagen.flow_from_directory(valid_files, \n",
    "                                          target_size=(IMG_SIZE, IMG_SIZE),\n",
    "                                          color_mode='rgb', \n",
    "                                          class_mode='categorical',\n",
    "                                          batch_size=val_batch)\n",
    "\n",
    "    datagen = ImageDataGenerator(preprocessing_function=preprocess_input,\n",
    "                                 rescale=1./255)\n",
    "    \n",
    "    datagen.mean=np.array([103.939, 116.779, 123.68],dtype=np.float32).reshape(1,1,3)\n",
    "\n",
    "    test_gen = datagen.flow_from_directory(test_files, \n",
    "                                           target_size=(IMG_SIZE, IMG_SIZE),\n",
    "                                           color_mode='rgb', \n",
    "                                           class_mode='categorical',\n",
    "                                           shuffle=False)\n",
    "    \n",
    "    return train_gen, val_gen, test_gen"
   ]
  },
  {
   "cell_type": "code",
   "execution_count": 35,
   "metadata": {},
   "outputs": [
    {
     "name": "stdout",
     "output_type": "stream",
     "text": [
      "Found 343 images belonging to 2 classes.\n",
      "Found 36 images belonging to 2 classes.\n",
      "Found 174 images belonging to 2 classes.\n"
     ]
    }
   ],
   "source": [
    "#Generating data for training using Image Generator defined above\n",
    "train_batch = 32\n",
    "val_batch = 1\n",
    "\n",
    "train, val, test = DataGenerator(train_batch, val_batch, IMG_SIZE)"
   ]
  },
  {
   "cell_type": "code",
   "execution_count": 36,
   "metadata": {},
   "outputs": [],
   "source": [
    "# the squashing function.\n",
    "\"\"\"\n",
    "The non-linear activation used in Capsule. It drives the length of a large vector to near 1 and small vector to 0\n",
    ":param vectors: some vectors to be squashed, N-dim tensor\n",
    ":param axis: the axis to squash\n",
    ":return: a Tensor with same shape as input vectors\n",
    "\"\"\"\n",
    "def squash(x, axis=-1):\n",
    "    s_squared_norm = K.sum(K.square(x), axis, keepdims=True) + K.epsilon()\n",
    "    scale = K.sqrt(s_squared_norm) / (0.5 + s_squared_norm)\n",
    "    return scale * x\n"
   ]
  },
  {
   "cell_type": "code",
   "execution_count": 37,
   "metadata": {},
   "outputs": [],
   "source": [
    "# define our own softmax function instead of K.softmax\n",
    "# because K.softmax can not specify axis.\n",
    "def softmax(x, axis=-1):\n",
    "    ex = K.exp(x - K.max(x, axis=axis, keepdims=True))\n",
    "    return ex / K.sum(ex, axis=axis, keepdims=True)"
   ]
  },
  {
   "cell_type": "code",
   "execution_count": 38,
   "metadata": {},
   "outputs": [],
   "source": [
    "def margin_loss(y_true, y_pred):\n",
    "    lamb, margin = 0.5, 0.1 #default lambda 0.5 - but test with lambda with 0.9 - 0.1\n",
    "    return K.sum(y_true * K.square(K.relu(1 - margin - y_pred)) + lamb * (\n",
    "        1 - y_true) * K.square(K.relu(y_pred - margin)), axis=-1)\n"
   ]
  },
  {
   "cell_type": "code",
   "execution_count": 39,
   "metadata": {},
   "outputs": [],
   "source": [
    "def caps_batch_dot(x, y):\n",
    "    x = K.expand_dims(x, 2)\n",
    "    if K.int_shape(x)[3] is not None:\n",
    "        y = K.permute_dimensions(y, (0, 1, 3, 2))\n",
    "    o = tf.matmul(x, y)\n",
    "    return K.squeeze(o, 2)\n",
    "\n",
    "class Capsule(Layer):\n",
    "    \"\"\"\n",
    "    The capsule layer. It is similar to Dense layer. Dense layer has `in_num` inputs, each is a scalar, the output of the \n",
    "    neuron from the former layer, and it has `out_num` output neurons. CapsuleLayer just expand the output of the neuron\n",
    "    from scalar to vector. So its input shape = [None, input_num_capsule, input_dim_capsule] and output shape = \\\n",
    "    [None, num_capsule, dim_capsule]. For Dense Layer, input_dim_capsule = dim_capsule = 1.\n",
    "    \n",
    "    :param num_capsule: number of capsules in this layer\n",
    "    :param dim_capsule: dimension of the output vectors of the capsules in this layer\n",
    "    :param routings: number of iterations for the routing algorithm\n",
    "    \"\"\"\n",
    "    def __init__(self,\n",
    "                 num_capsule,\n",
    "                 dim_capsule,\n",
    "                 routings=3,\n",
    "                 share_weights=True,\n",
    "                 activation='squash',\n",
    "                 **kwargs):\n",
    "        super(Capsule, self).__init__(**kwargs)\n",
    "        self.num_capsule = num_capsule\n",
    "        self.dim_capsule = dim_capsule\n",
    "        self.routings = routings\n",
    "        self.share_weights = share_weights\n",
    "        if activation == 'squash':\n",
    "            self.activation = squash\n",
    "        else:\n",
    "            self.activation = activations.get(activation)\n",
    "\n",
    "    def build(self, input_shape):\n",
    "        input_dim_capsule = input_shape[-1]\n",
    "        if self.share_weights:\n",
    "            self.kernel = self.add_weight(\n",
    "                name='capsule_kernel',\n",
    "                shape=(1, input_dim_capsule,\n",
    "                       self.num_capsule * self.dim_capsule),\n",
    "                initializer='glorot_uniform',\n",
    "                trainable=True)\n",
    "        else:\n",
    "            if input_shape[-2] is None:\n",
    "                raise ValueError(\"Input Shape must be defied if weights not shared.\")\n",
    "            input_num_capsule = input_shape[-2]\n",
    "            self.kernel = self.add_weight(\n",
    "                name='capsule_kernel',\n",
    "                shape=(input_num_capsule, input_dim_capsule,\n",
    "                       self.num_capsule * self.dim_capsule),\n",
    "                initializer='glorot_uniform',\n",
    "                trainable=True)\n",
    "\n",
    "    def call(self, inputs):\n",
    "        \"\"\"Following the routing algorithm from Hinton's paper,\n",
    "        but replace b = b + <u,v> with b = <u,v>.\n",
    "        This change can improve the feature representation of Capsule.\n",
    "        However, you can replace\n",
    "            b = K.batch_dot(outputs, hat_inputs, [2, 3])\n",
    "        with\n",
    "            b += K.batch_dot(outputs, hat_inputs, [2, 3])\n",
    "        to realize a standard routing.\n",
    "        \"\"\"\n",
    "\n",
    "        if self.share_weights:\n",
    "            hat_inputs = K.conv1d(inputs, self.kernel)\n",
    "        else:\n",
    "            hat_inputs = K.local_conv1d(inputs, self.kernel, [1], [1])\n",
    "\n",
    "        batch_size = K.shape(inputs)[0]\n",
    "        input_num_capsule = K.shape(inputs)[1]\n",
    "        hat_inputs = K.reshape(hat_inputs,\n",
    "                               (batch_size, input_num_capsule,\n",
    "                                self.num_capsule, self.dim_capsule))\n",
    "        hat_inputs = K.permute_dimensions(hat_inputs, (0, 2, 1, 3))\n",
    "\n",
    "        b = K.zeros_like(hat_inputs[:, :, :, 0])\n",
    "\n",
    "        \n",
    "        # Begin: Routing algorithm ---------------------------------------------------------------------#\n",
    "        # The prior for coupling coefficient, initialized as zeros.\n",
    "        # b.shape = [None, self.num_capsule, self.input_num_capsule].\n",
    "\n",
    "        for i in range(self.routings):\n",
    "            c = softmax(b, 1)\n",
    "            o = self.activation(caps_batch_dot(c, hat_inputs))\n",
    "            if i < self.routings - 1:\n",
    "                b = caps_batch_dot(o, hat_inputs)\n",
    "                if K.backend() == 'theano':\n",
    "                    o = K.sum(o, axis=1)\n",
    "        # End: Routing algorithm -----------------------------------------------------------------------#\n",
    "        return o\n",
    "\n",
    "    def compute_output_shape(self, input_shape):\n",
    "        return (None, self.num_capsule, self.dim_capsule)\n",
    "        \n",
    "    def get_config(self):\n",
    "        config = {\n",
    "            'num_capsule': self.num_capsule,\n",
    "            'dim_capsule': self.dim_capsule,\n",
    "            'routings': self.routings\n",
    "        }\n",
    "        base_config = super(Capsule, self).get_config()\n",
    "        return dict(list(base_config.items()) + list(config.items()))"
   ]
  },
  {
   "cell_type": "code",
   "execution_count": 40,
   "metadata": {},
   "outputs": [],
   "source": [
    "input_image = Input(shape=(IMG_SIZE, IMG_SIZE, 3))\n",
    "\n",
    "\n",
    "# A InceptionResNetV2 Conv2D model\n",
    "base_model = VGG16(include_top=False, weights='imagenet', input_tensor=input_image)\n",
    "#base_model.summary()"
   ]
  },
  {
   "cell_type": "code",
   "execution_count": 41,
   "metadata": {
    "scrolled": true
   },
   "outputs": [
    {
     "name": "stdout",
     "output_type": "stream",
     "text": [
      "Model: \"model_1\"\n",
      "_________________________________________________________________\n",
      "Layer (type)                 Output Shape              Param #   \n",
      "=================================================================\n",
      "input_2 (InputLayer)         [(None, 299, 299, 3)]     0         \n",
      "_________________________________________________________________\n",
      "block1_conv1 (Conv2D)        (None, 299, 299, 64)      1792      \n",
      "_________________________________________________________________\n",
      "block1_conv2 (Conv2D)        (None, 299, 299, 64)      36928     \n",
      "_________________________________________________________________\n",
      "block1_pool (MaxPooling2D)   (None, 149, 149, 64)      0         \n",
      "_________________________________________________________________\n",
      "block2_conv1 (Conv2D)        (None, 149, 149, 128)     73856     \n",
      "_________________________________________________________________\n",
      "block2_conv2 (Conv2D)        (None, 149, 149, 128)     147584    \n",
      "_________________________________________________________________\n",
      "block2_pool (MaxPooling2D)   (None, 74, 74, 128)       0         \n",
      "_________________________________________________________________\n",
      "block3_conv1 (Conv2D)        (None, 74, 74, 256)       295168    \n",
      "_________________________________________________________________\n",
      "block3_conv2 (Conv2D)        (None, 74, 74, 256)       590080    \n",
      "_________________________________________________________________\n",
      "block3_conv3 (Conv2D)        (None, 74, 74, 256)       590080    \n",
      "_________________________________________________________________\n",
      "block3_pool (MaxPooling2D)   (None, 37, 37, 256)       0         \n",
      "_________________________________________________________________\n",
      "block4_conv1 (Conv2D)        (None, 37, 37, 512)       1180160   \n",
      "_________________________________________________________________\n",
      "block4_conv2 (Conv2D)        (None, 37, 37, 512)       2359808   \n",
      "_________________________________________________________________\n",
      "block4_conv3 (Conv2D)        (None, 37, 37, 512)       2359808   \n",
      "_________________________________________________________________\n",
      "block4_pool (MaxPooling2D)   (None, 18, 18, 512)       0         \n",
      "_________________________________________________________________\n",
      "block5_conv1 (Conv2D)        (None, 18, 18, 512)       2359808   \n",
      "_________________________________________________________________\n",
      "block5_conv2 (Conv2D)        (None, 18, 18, 512)       2359808   \n",
      "_________________________________________________________________\n",
      "block5_conv3 (Conv2D)        (None, 18, 18, 512)       2359808   \n",
      "_________________________________________________________________\n",
      "block5_pool (MaxPooling2D)   (None, 9, 9, 512)         0         \n",
      "_________________________________________________________________\n",
      "conv2d_1 (Conv2D)            (None, 7, 7, 256)         1179904   \n",
      "_________________________________________________________________\n",
      "reshape_1 (Reshape)          (None, 49, 256)           0         \n",
      "_________________________________________________________________\n",
      "capsule_2 (Capsule)          (None, 32, 8)             65536     \n",
      "_________________________________________________________________\n",
      "capsule_3 (Capsule)          (None, 2, 16)             256       \n",
      "_________________________________________________________________\n",
      "lambda_1 (Lambda)            (None, 2)                 0         \n",
      "=================================================================\n",
      "Total params: 15,960,384\n",
      "Trainable params: 15,960,384\n",
      "Non-trainable params: 0\n",
      "_________________________________________________________________\n"
     ]
    }
   ],
   "source": [
    "output = Conv2D(256, kernel_size=(3, 3), strides=(1, 1), activation='relu')(base_model.get_layer(name='block5_pool').output)\n",
    "\n",
    "x = Reshape((-1, 256))(output)\n",
    "x = Capsule(32, 8, 3, True)(x)\n",
    "\n",
    "capsule = Capsule(2, 16, 4, True)(x)\n",
    "\n",
    "output = Lambda(lambda z: K.sqrt(K.sum(K.square(z), 2)))(capsule)\n",
    "\n",
    "\n",
    "model = Model(inputs=input_image, outputs=output)\n",
    "model.summary()"
   ]
  },
  {
   "cell_type": "code",
   "execution_count": 42,
   "metadata": {},
   "outputs": [],
   "source": [
    "lr=1e-3\n",
    "\n",
    "checkpoint = ModelCheckpoint(\"weights.h5\", \n",
    "                             monitor='val_loss', \n",
    "                             verbose=1, \n",
    "                             save_best_only=True, \n",
    "                             save_weights_only=False, \n",
    "                             mode='min')\n",
    "\n",
    "early = EarlyStopping(monitor='val_loss', patience=10, verbose=0, mode='min', restore_best_weights=True)\n",
    "\n",
    "callback_list = [checkpoint, early]"
   ]
  },
  {
   "cell_type": "code",
   "execution_count": 43,
   "metadata": {
    "scrolled": true
   },
   "outputs": [
    {
     "name": "stderr",
     "output_type": "stream",
     "text": [
      "C:\\anaconda\\lib\\site-packages\\tensorflow\\python\\keras\\optimizer_v2\\optimizer_v2.py:374: UserWarning: The `lr` argument is deprecated, use `learning_rate` instead.\n",
      "  warnings.warn(\n"
     ]
    },
    {
     "name": "stdout",
     "output_type": "stream",
     "text": [
      "Epoch 1/50\n",
      "10/10 [==============================] - 244s 24s/step - loss: 0.2477 - accuracy: 0.5156 - val_loss: 0.1690 - val_accuracy: 0.8889\n",
      "\n",
      "Epoch 00001: val_loss improved from inf to 0.16903, saving model to weights.h5\n",
      "Epoch 2/50\n",
      "10/10 [==============================] - 258s 26s/step - loss: 0.1538 - accuracy: 0.8562 - val_loss: 0.0521 - val_accuracy: 1.0000\n",
      "\n",
      "Epoch 00002: val_loss improved from 0.16903 to 0.05214, saving model to weights.h5\n",
      "Epoch 3/50\n",
      "10/10 [==============================] - 257s 26s/step - loss: 0.1174 - accuracy: 0.8810 - val_loss: 0.2051 - val_accuracy: 0.7222\n",
      "\n",
      "Epoch 00003: val_loss did not improve from 0.05214\n",
      "Epoch 4/50\n",
      "10/10 [==============================] - 255s 25s/step - loss: 0.1598 - accuracy: 0.8199 - val_loss: 0.0344 - val_accuracy: 0.9722\n",
      "\n",
      "Epoch 00004: val_loss improved from 0.05214 to 0.03438, saving model to weights.h5\n",
      "Epoch 5/50\n",
      "10/10 [==============================] - 236s 24s/step - loss: 0.0565 - accuracy: 0.9228 - val_loss: 0.0488 - val_accuracy: 1.0000\n",
      "\n",
      "Epoch 00005: val_loss did not improve from 0.03438\n",
      "Epoch 6/50\n",
      "10/10 [==============================] - 241s 24s/step - loss: 0.0507 - accuracy: 0.9550 - val_loss: 0.0203 - val_accuracy: 1.0000\n",
      "\n",
      "Epoch 00006: val_loss improved from 0.03438 to 0.02033, saving model to weights.h5\n",
      "Epoch 7/50\n",
      "10/10 [==============================] - 238s 24s/step - loss: 0.0407 - accuracy: 0.9453 - val_loss: 0.0141 - val_accuracy: 1.0000\n",
      "\n",
      "Epoch 00007: val_loss improved from 0.02033 to 0.01411, saving model to weights.h5\n",
      "Epoch 8/50\n",
      "10/10 [==============================] - 237s 24s/step - loss: 0.0207 - accuracy: 0.9711 - val_loss: 0.0087 - val_accuracy: 1.0000\n",
      "\n",
      "Epoch 00008: val_loss improved from 0.01411 to 0.00869, saving model to weights.h5\n",
      "Epoch 9/50\n",
      "10/10 [==============================] - 241s 24s/step - loss: 0.0101 - accuracy: 0.9937 - val_loss: 0.0129 - val_accuracy: 1.0000\n",
      "\n",
      "Epoch 00009: val_loss did not improve from 0.00869\n",
      "Epoch 10/50\n",
      "10/10 [==============================] - 235s 23s/step - loss: 0.0104 - accuracy: 0.9936 - val_loss: 0.0160 - val_accuracy: 0.9722\n",
      "\n",
      "Epoch 00010: val_loss did not improve from 0.00869\n",
      "Epoch 11/50\n",
      "10/10 [==============================] - 236s 24s/step - loss: 0.0153 - accuracy: 0.9807 - val_loss: 0.0448 - val_accuracy: 0.9444\n",
      "\n",
      "Epoch 00011: val_loss did not improve from 0.00869\n",
      "Epoch 12/50\n",
      "10/10 [==============================] - 234s 23s/step - loss: 0.0204 - accuracy: 0.9711 - val_loss: 0.0167 - val_accuracy: 0.9722\n",
      "\n",
      "Epoch 00012: val_loss did not improve from 0.00869\n",
      "Epoch 13/50\n",
      "10/10 [==============================] - 243s 24s/step - loss: 0.0148 - accuracy: 0.9871 - val_loss: 0.0484 - val_accuracy: 0.9444\n",
      "\n",
      "Epoch 00013: val_loss did not improve from 0.00869\n",
      "Epoch 14/50\n",
      "10/10 [==============================] - 238s 24s/step - loss: 0.0139 - accuracy: 0.9871 - val_loss: 0.0170 - val_accuracy: 1.0000\n",
      "\n",
      "Epoch 00014: val_loss did not improve from 0.00869\n",
      "Epoch 15/50\n",
      "10/10 [==============================] - 235s 23s/step - loss: 0.0176 - accuracy: 0.9775 - val_loss: 0.0150 - val_accuracy: 0.9722\n",
      "\n",
      "Epoch 00015: val_loss did not improve from 0.00869\n",
      "Epoch 16/50\n",
      "10/10 [==============================] - 255s 26s/step - loss: 0.0081 - accuracy: 0.9968 - val_loss: 0.0329 - val_accuracy: 0.9444\n",
      "\n",
      "Epoch 00016: val_loss did not improve from 0.00869\n",
      "Epoch 17/50\n",
      "10/10 [==============================] - 255s 26s/step - loss: 0.0078 - accuracy: 0.9904 - val_loss: 0.0143 - val_accuracy: 0.9722\n",
      "\n",
      "Epoch 00017: val_loss did not improve from 0.00869\n",
      "Epoch 18/50\n",
      "10/10 [==============================] - 247s 25s/step - loss: 0.0038 - accuracy: 0.9936 - val_loss: 0.0172 - val_accuracy: 0.9722\n",
      "\n",
      "Epoch 00018: val_loss did not improve from 0.00869\n"
     ]
    }
   ],
   "source": [
    "epochs=50\n",
    "batch_size = 32\n",
    "num_classes = 2\n",
    "\n",
    "model.compile(loss=margin_loss, optimizer=SGD(lr=lr, momentum=0.9), metrics=['accuracy'])\n",
    "\n",
    "\n",
    "history=model.fit(train,\n",
    "          epochs=epochs,\n",
    "          validation_data=val, \n",
    "          validation_steps = len(val.classes)//val_batch,\n",
    "          steps_per_epoch=len(train.classes)//train_batch,\n",
    "          callbacks=callback_list\n",
    "          )"
   ]
  },
  {
   "cell_type": "code",
   "execution_count": 44,
   "metadata": {},
   "outputs": [
    {
     "name": "stderr",
     "output_type": "stream",
     "text": [
      "C:\\anaconda\\lib\\site-packages\\tensorflow\\python\\keras\\engine\\training.py:1973: UserWarning: `Model.evaluate_generator` is deprecated and will be removed in a future version. Please use `Model.evaluate`, which supports generators.\n",
      "  warnings.warn('`Model.evaluate_generator` is deprecated and '\n"
     ]
    },
    {
     "name": "stdout",
     "output_type": "stream",
     "text": [
      "\n",
      "\n",
      "================================\n",
      "\n",
      "\n",
      "Loss: 0.01713264174759388\n",
      "Accuracy: 98.85 %\n",
      "\n",
      "\n",
      "================================\n",
      "\n",
      "\n"
     ]
    }
   ],
   "source": [
    "loss, acc = model.evaluate_generator(test, len(test))\n",
    "\n",
    "print (\"\\n\\n================================\\n\\n\")\n",
    "print (\"Loss: {}\".format(loss))\n",
    "print (\"Accuracy: {0:.2f} %\".format(acc * 100))\n",
    "print (\"\\n\\n================================\\n\\n\")\n",
    "\n",
    "\n",
    "test.reset()"
   ]
  },
  {
   "cell_type": "code",
   "execution_count": 45,
   "metadata": {},
   "outputs": [
    {
     "data": {
      "image/png": "[encoded data removed]",
      "text/plain": [
       "<Figure size 432x288 with 1 Axes>"
      ]
     },
     "metadata": {
      "needs_background": "light"
     },
     "output_type": "display_data"
    }
   ],
   "source": [
    "plt.plot(history.history['accuracy'])\n",
    "plt.plot(history.history['val_accuracy'])\n",
    "#plt.title('model accuracy')\n",
    "plt.ylabel('Accuracy')\n",
    "plt.xlabel('Epochs')\n",
    "plt.legend(['Training Accuracy', 'Validation Accuracy'], loc='upper left')\n",
    "plt.show()"
   ]
  },
  {
   "cell_type": "code",
   "execution_count": 46,
   "metadata": {},
   "outputs": [
    {
     "data": {
      "image/png": "[encoded data removed]",
      "text/plain": [
       "<Figure size 432x288 with 1 Axes>"
      ]
     },
     "metadata": {
      "needs_background": "light"
     },
     "output_type": "display_data"
    }
   ],
   "source": [
    "plt.plot(history.history['loss'])\n",
    "plt.plot(history.history['val_loss'])\n",
    "#plt.title('model loss')\n",
    "plt.ylabel('Loss')\n",
    "plt.xlabel('Epochs')\n",
    "plt.legend(['Training Loss', 'Validation Loss'], loc='upper left')\n",
    "plt.show()"
   ]
  },
  {
   "cell_type": "code",
   "execution_count": 47,
   "metadata": {},
   "outputs": [
    {
     "name": "stdout",
     "output_type": "stream",
     "text": [
      "6/6 [==============================] - 34s 6s/step - loss: 0.0171 - accuracy: 0.9885\n",
      "The testing accuracy is : 98.85057210922241 %\n"
     ]
    }
   ],
   "source": [
    "test_accu = model.evaluate(test)\n",
    "print('The testing accuracy is :',test_accu[1]*100, '%')"
   ]
  },
  {
   "cell_type": "code",
   "execution_count": 48,
   "metadata": {},
   "outputs": [
    {
     "name": "stdout",
     "output_type": "stream",
     "text": [
      "6/6 [==============================] - 34s 6s/step\n"
     ]
    }
   ],
   "source": [
    "preds = model.predict(test,verbose=1)\n",
    "predictions = preds.copy()\n",
    "predictions[predictions <= 0.5] = 0\n",
    "predictions[predictions > 0.5] = 1"
   ]
  },
  {
   "cell_type": "code",
   "execution_count": 49,
   "metadata": {},
   "outputs": [
    {
     "name": "stdout",
     "output_type": "stream",
     "text": [
      "Confusion Matrix\n",
      "[[119   1]\n",
      " [  1  53]]\n"
     ]
    }
   ],
   "source": [
    "#Confusion Matrix and Classification Report\n",
    "from sklearn.metrics import classification_report\n",
    "from sklearn.metrics import confusion_matrix\n",
    "\n",
    "#Y_pred = model.predict_generator(validation_generator, nb_validation_samples // \n",
    "#batch_size+1)\n",
    "y_pred = np.argmax(preds, axis=1)\n",
    "\n",
    "print('Confusion Matrix')\n",
    "print(confusion_matrix(test.classes, y_pred))\n"
   ]
  },
  {
   "cell_type": "code",
   "execution_count": 50,
   "metadata": {},
   "outputs": [
    {
     "name": "stdout",
     "output_type": "stream",
     "text": [
      "Classification Report\n",
      "              precision    recall  f1-score   support\n",
      "\n",
      "      Benign       0.99      0.99      0.99       120\n",
      "   Malignant       0.98      0.98      0.98        54\n",
      "\n",
      "    accuracy                           0.99       174\n",
      "   macro avg       0.99      0.99      0.99       174\n",
      "weighted avg       0.99      0.99      0.99       174\n",
      "\n"
     ]
    }
   ],
   "source": [
    "print('Classification Report')\n",
    "target_names = ['Benign', 'Malignant']\n",
    "print(classification_report(test.classes, y_pred, target_names=target_names))"
   ]
  },
  {
   "cell_type": "code",
   "execution_count": 51,
   "metadata": {},
   "outputs": [
    {
     "data": {
      "text/plain": [
       "(0.9814814814814815, 0.9814814814814815, 0.9814814814814815)"
      ]
     },
     "execution_count": 51,
     "metadata": {},
     "output_type": "execute_result"
    }
   ],
   "source": [
    "from sklearn.metrics import precision_score, recall_score\n",
    "from sklearn.metrics import f1_score\n",
    "\n",
    "precision_score(test.classes, y_pred) , recall_score(test.classes, y_pred) ,  f1_score(test.classes, y_pred)"
   ]
  },
  {
   "cell_type": "code",
   "execution_count": 63,
   "metadata": {},
   "outputs": [
    {
     "data": {
      "text/plain": [
       "<AxesSubplot:>"
      ]
     },
     "execution_count": 63,
     "metadata": {},
     "output_type": "execute_result"
    },
    {
     "data": {
      "image/png": "[encoded data removed]",
      "text/plain": [
       "<Figure size 432x288 with 2 Axes>"
      ]
     },
     "metadata": {
      "needs_background": "light"
     },
     "output_type": "display_data"
    }
   ],
   "source": [
    "from sklearn.metrics import classification_report,confusion_matrix\n",
    "cm = pd.DataFrame(data=confusion_matrix( y_true= test.classes, y_pred= y_pred, labels=[0, 1]), index=[\"Actual ADC\", \"Actual Normal\"],columns=[\"Predicted ADC\", \"Predicted Normal\"])\n",
    "import seaborn as sns\n",
    "import seaborn as sns\n",
    "sns.heatmap(cm,annot=True,fmt=\"d\")"
   ]
  },
  {
   "cell_type": "code",
   "execution_count": 62,
   "metadata": {},
   "outputs": [
    {
     "data": {
      "text/plain": [
       "<AxesSubplot:>"
      ]
     },
     "execution_count": 62,
     "metadata": {},
     "output_type": "execute_result"
    },
    {
     "data": {
      "image/png": "[encoded data removed]",
      "text/plain": [
       "<Figure size 432x288 with 2 Axes>"
      ]
     },
     "metadata": {
      "needs_background": "light"
     },
     "output_type": "display_data"
    }
   ],
   "source": [
    "from sklearn.metrics import classification_report,confusion_matrix\n",
    "cm = pd.DataFrame(data=confusion_matrix( y_true= test.classes, y_pred= y_pred, labels=[0, 1]), index=[\"Actual ADC\", \"Actual Normal\"],columns=[\"Predicted ADC\", \"Predicted Normal\"])\n",
    "import seaborn as sns\n",
    "sns.heatmap(cm,annot=True,fmt=\"d\",cmap=\"YlGnBu\")"
   ]
  },
  {
   "cell_type": "code",
   "execution_count": 54,
   "metadata": {},
   "outputs": [],
   "source": [
    "from sklearn.datasets import make_classification\n",
    "from sklearn.linear_model import LogisticRegression\n",
    "from sklearn.model_selection import train_test_split\n",
    "from sklearn.metrics import roc_curve\n",
    "from matplotlib import pyplot\n",
    "import sklearn.metrics as metrics"
   ]
  },
  {
   "cell_type": "code",
   "execution_count": 55,
   "metadata": {},
   "outputs": [
    {
     "data": {
      "image/png": "[encoded data removed]",
      "text/plain": [
       "<Figure size 432x288 with 1 Axes>"
      ]
     },
     "metadata": {
      "needs_background": "light"
     },
     "output_type": "display_data"
    }
   ],
   "source": [
    "fpr, tpr, threshold = metrics.roc_curve(test.classes, y_pred)\n",
    "roc_auc = metrics.auc(fpr, tpr)\n",
    "import matplotlib.pyplot as plt\n",
    "plt.title('Receiver Operating Characteristic')\n",
    "plt.plot(fpr, tpr, 'b', label = 'AUC = %0.2f' % roc_auc)\n",
    "plt.legend(loc = 'lower right')\n",
    "plt.plot([0, 1], [0, 1],'r--')\n",
    "plt.xlim([0, 1])\n",
    "plt.ylim([0, 1])\n",
    "plt.ylabel('True Positive Rate')\n",
    "plt.xlabel('False Positive Rate')\n",
    "plt.show()"
   ]
  },
  {
   "cell_type": "code",
   "execution_count": 56,
   "metadata": {},
   "outputs": [
    {
     "data": {
      "image/png": "[encoded data removed]",
      "text/plain": [
       "<Figure size 432x288 with 1 Axes>"
      ]
     },
     "metadata": {
      "needs_background": "light"
     },
     "output_type": "display_data"
    }
   ],
   "source": [
    "import sklearn.metrics as metrics\n",
    "pyplot.plot([0, 1], [0, 1], linestyle='--')\n",
    "fpr, tpr, threshold = metrics.roc_curve(test.classes, y_pred)\n",
    "roc_auc = metrics.auc(fpr, tpr)\n",
    "\n",
    "# plot model roc curve\n",
    "plt.plot(fpr, tpr, 'b', label = 'AUC(Lung Vgg Caps) = %0.2f' % roc_auc)\n",
    "# axis labels\n",
    "pyplot.xlabel('False Positive Rate')\n",
    "pyplot.ylabel('True Positive Rate')\n",
    "# show the legend\n",
    "pyplot.legend()\n",
    "plt.legend(loc=\"lower right\")\n",
    "#pyplot.title('ROC curve for classification using VGGCapsNet')\n",
    "# show the plot\n",
    "pyplot.show()"
   ]
  },
  {
   "cell_type": "code",
   "execution_count": 57,
   "metadata": {},
   "outputs": [
    {
     "data": {
      "text/plain": [
       "array([0, 0, 0, 0, 0, 0, 0, 0, 0, 0, 0, 0, 0, 0, 0, 0, 0, 0, 0, 0, 0, 0,\n",
       "       0, 0, 0, 0, 0, 0, 0, 0, 0, 0, 0, 0, 0, 0, 0, 0, 0, 0, 0, 0, 0, 0,\n",
       "       0, 0, 0, 0, 0, 0, 0, 0, 0, 0, 0, 0, 0, 0, 0, 0, 0, 0, 0, 0, 0, 0,\n",
       "       0, 0, 0, 0, 0, 0, 0, 0, 0, 0, 0, 0, 0, 0, 0, 0, 0, 0, 0, 0, 0, 0,\n",
       "       0, 0, 0, 0, 0, 0, 0, 0, 0, 0, 0, 0, 0, 0, 0, 0, 0, 0, 0, 0, 0, 0,\n",
       "       0, 0, 0, 0, 0, 0, 0, 0, 0, 0, 1, 1, 1, 1, 1, 1, 1, 1, 1, 1, 1, 1,\n",
       "       1, 1, 1, 1, 1, 1, 1, 1, 1, 1, 1, 1, 1, 1, 1, 1, 1, 1, 1, 1, 1, 1,\n",
       "       1, 1, 1, 1, 1, 1, 1, 1, 1, 1, 1, 1, 1, 1, 1, 1, 1, 1, 1, 1])"
      ]
     },
     "execution_count": 57,
     "metadata": {},
     "output_type": "execute_result"
    }
   ],
   "source": [
    "test.classes"
   ]
  },
  {
   "cell_type": "code",
   "execution_count": 58,
   "metadata": {},
   "outputs": [
    {
     "data": {
      "text/plain": [
       "array([0, 0, 0, 0, 0, 0, 0, 0, 1, 0, 0, 0, 0, 0, 0, 0, 0, 0, 0, 0, 0, 0,\n",
       "       0, 0, 0, 0, 0, 0, 0, 0, 0, 0, 0, 0, 0, 0, 0, 0, 0, 0, 0, 0, 0, 0,\n",
       "       0, 0, 0, 0, 0, 0, 0, 0, 0, 0, 0, 0, 0, 0, 0, 0, 0, 0, 0, 0, 0, 0,\n",
       "       0, 0, 0, 0, 0, 0, 0, 0, 0, 0, 0, 0, 0, 0, 0, 0, 0, 0, 0, 0, 0, 0,\n",
       "       0, 0, 0, 0, 0, 0, 0, 0, 0, 0, 0, 0, 0, 0, 0, 0, 0, 0, 0, 0, 0, 0,\n",
       "       0, 0, 0, 0, 0, 0, 0, 0, 0, 0, 1, 1, 1, 1, 1, 1, 1, 1, 1, 1, 1, 1,\n",
       "       1, 1, 1, 1, 1, 1, 1, 1, 1, 1, 1, 1, 0, 1, 1, 1, 1, 1, 1, 1, 1, 1,\n",
       "       1, 1, 1, 1, 1, 1, 1, 1, 1, 1, 1, 1, 1, 1, 1, 1, 1, 1, 1, 1],\n",
       "      dtype=int64)"
      ]
     },
     "execution_count": 58,
     "metadata": {},
     "output_type": "execute_result"
    }
   ],
   "source": [
    "y_pred"
   ]
  },
  {
   "cell_type": "code",
   "execution_count": 59,
   "metadata": {},
   "outputs": [
    {
     "data": {
      "text/plain": [
       "array([[0.62673557, 0.57692206],\n",
       "       [0.8546419 , 0.12602878],\n",
       "       [0.8233637 , 0.13379557],\n",
       "       [0.60961926, 0.5238571 ],\n",
       "       [0.87150043, 0.05975171],\n",
       "       [0.8349809 , 0.15793416],\n",
       "       [0.85796416, 0.11477849],\n",
       "       [0.8808795 , 0.11854348],\n",
       "       [0.54841495, 0.5843382 ],\n",
       "       [0.8795554 , 0.10543628],\n",
       "       [0.8817632 , 0.12250671],\n",
       "       [0.83379465, 0.1176019 ],\n",
       "       [0.82393795, 0.13453923],\n",
       "       [0.85440505, 0.1222726 ],\n",
       "       [0.8820439 , 0.09318723],\n",
       "       [0.88917816, 0.10292932],\n",
       "       [0.8577245 , 0.11619852],\n",
       "       [0.71091616, 0.36650962],\n",
       "       [0.7499053 , 0.30395207],\n",
       "       [0.8604776 , 0.07771814],\n",
       "       [0.8353441 , 0.09131493],\n",
       "       [0.87417275, 0.09147952],\n",
       "       [0.8127308 , 0.19129956],\n",
       "       [0.8673176 , 0.09266026],\n",
       "       [0.8365747 , 0.10748644],\n",
       "       [0.8703515 , 0.14604637],\n",
       "       [0.86442155, 0.15243371],\n",
       "       [0.73562247, 0.34447908],\n",
       "       [0.7685834 , 0.29276544],\n",
       "       [0.8361384 , 0.15369967],\n",
       "       [0.8304245 , 0.21257465],\n",
       "       [0.88482195, 0.09501802],\n",
       "       [0.85745144, 0.12321821],\n",
       "       [0.8703898 , 0.10057563],\n",
       "       [0.8664802 , 0.11402091],\n",
       "       [0.8387429 , 0.14388266],\n",
       "       [0.69516563, 0.4641246 ],\n",
       "       [0.8603776 , 0.12048225],\n",
       "       [0.83945334, 0.16208406],\n",
       "       [0.86661077, 0.05960755],\n",
       "       [0.8350068 , 0.16713792],\n",
       "       [0.66604716, 0.38075534],\n",
       "       [0.86292833, 0.1092113 ],\n",
       "       [0.8792488 , 0.09145769],\n",
       "       [0.8057204 , 0.17892356],\n",
       "       [0.85766673, 0.08545668],\n",
       "       [0.8507405 , 0.1364331 ],\n",
       "       [0.8604503 , 0.10410172],\n",
       "       [0.8545753 , 0.13834214],\n",
       "       [0.8142374 , 0.17201316],\n",
       "       [0.8281119 , 0.13048898],\n",
       "       [0.81479454, 0.16339718],\n",
       "       [0.85806257, 0.12705287],\n",
       "       [0.85049176, 0.14924145],\n",
       "       [0.858486  , 0.07087521],\n",
       "       [0.8387662 , 0.10792687],\n",
       "       [0.83511925, 0.13091883],\n",
       "       [0.85164344, 0.10190159],\n",
       "       [0.86127865, 0.14196709],\n",
       "       [0.83453953, 0.08222022],\n",
       "       [0.84969497, 0.14035669],\n",
       "       [0.75264156, 0.27784613],\n",
       "       [0.8799361 , 0.06779207],\n",
       "       [0.8477029 , 0.09034561],\n",
       "       [0.87728137, 0.07587123],\n",
       "       [0.86845326, 0.10492679],\n",
       "       [0.8690879 , 0.11437932],\n",
       "       [0.87231   , 0.06212948],\n",
       "       [0.86480975, 0.11136941],\n",
       "       [0.8102012 , 0.22762096],\n",
       "       [0.8741419 , 0.09412507],\n",
       "       [0.85439664, 0.08947917],\n",
       "       [0.87400323, 0.07526259],\n",
       "       [0.88376147, 0.11270237],\n",
       "       [0.8682799 , 0.10783355],\n",
       "       [0.8614019 , 0.14112222],\n",
       "       [0.86315876, 0.11588187],\n",
       "       [0.87800795, 0.1178604 ],\n",
       "       [0.8534294 , 0.09317487],\n",
       "       [0.89023864, 0.09632214],\n",
       "       [0.88727796, 0.08807757],\n",
       "       [0.8740301 , 0.09473478],\n",
       "       [0.87533295, 0.08861411],\n",
       "       [0.85869145, 0.13575779],\n",
       "       [0.6864505 , 0.33840474],\n",
       "       [0.8375063 , 0.15480037],\n",
       "       [0.8458935 , 0.07722232],\n",
       "       [0.84274614, 0.13577873],\n",
       "       [0.87616307, 0.05864531],\n",
       "       [0.8477016 , 0.16372517],\n",
       "       [0.8454727 , 0.10308447],\n",
       "       [0.8171124 , 0.17374721],\n",
       "       [0.6483846 , 0.41716486],\n",
       "       [0.81682086, 0.20211871],\n",
       "       [0.7269064 , 0.23212495],\n",
       "       [0.8331396 , 0.1116652 ],\n",
       "       [0.84483004, 0.17571302],\n",
       "       [0.7718613 , 0.22333921],\n",
       "       [0.8912092 , 0.08138628],\n",
       "       [0.8565875 , 0.11145607],\n",
       "       [0.80974764, 0.23182331],\n",
       "       [0.8853451 , 0.0697955 ],\n",
       "       [0.8019157 , 0.2117175 ],\n",
       "       [0.80462986, 0.1982226 ],\n",
       "       [0.88639694, 0.09110744],\n",
       "       [0.850495  , 0.11671599],\n",
       "       [0.7131974 , 0.43526196],\n",
       "       [0.880639  , 0.1021686 ],\n",
       "       [0.79114425, 0.24449466],\n",
       "       [0.68358225, 0.45170143],\n",
       "       [0.8590207 , 0.06904117],\n",
       "       [0.6512356 , 0.5201225 ],\n",
       "       [0.8261942 , 0.18751469],\n",
       "       [0.83627695, 0.1510612 ],\n",
       "       [0.65826124, 0.42567298],\n",
       "       [0.8387915 , 0.10352295],\n",
       "       [0.8899029 , 0.08618087],\n",
       "       [0.7911376 , 0.18830274],\n",
       "       [0.82122767, 0.18868987],\n",
       "       [0.8852961 , 0.08761881],\n",
       "       [0.08112939, 0.8496538 ],\n",
       "       [0.08112939, 0.8496538 ],\n",
       "       [0.1109226 , 0.87296426],\n",
       "       [0.1109226 , 0.87296426],\n",
       "       [0.08085047, 0.86629134],\n",
       "       [0.11493199, 0.8730283 ],\n",
       "       [0.11493199, 0.8730283 ],\n",
       "       [0.08085047, 0.86629134],\n",
       "       [0.10761795, 0.8848701 ],\n",
       "       [0.10761795, 0.8848701 ],\n",
       "       [0.10287262, 0.8838643 ],\n",
       "       [0.10287262, 0.8838643 ],\n",
       "       [0.10645647, 0.88535213],\n",
       "       [0.10739414, 0.8830598 ],\n",
       "       [0.10739414, 0.8830598 ],\n",
       "       [0.10645647, 0.88535213],\n",
       "       [0.22011924, 0.89595735],\n",
       "       [0.22011924, 0.89595735],\n",
       "       [0.16430305, 0.8867241 ],\n",
       "       [0.16430305, 0.8867241 ],\n",
       "       [0.194658  , 0.89617753],\n",
       "       [0.21607216, 0.893782  ],\n",
       "       [0.21607216, 0.893782  ],\n",
       "       [0.18384242, 0.89770144],\n",
       "       [0.8060567 , 0.24703287],\n",
       "       [0.2838479 , 0.76000357],\n",
       "       [0.10075065, 0.83595896],\n",
       "       [0.10841443, 0.8355976 ],\n",
       "       [0.15412313, 0.8701646 ],\n",
       "       [0.11816566, 0.8812086 ],\n",
       "       [0.11816566, 0.8812086 ],\n",
       "       [0.12347953, 0.8839936 ],\n",
       "       [0.12347953, 0.8839936 ],\n",
       "       [0.11816566, 0.8812086 ],\n",
       "       [0.12347953, 0.8839936 ],\n",
       "       [0.11816566, 0.8812086 ],\n",
       "       [0.15257114, 0.8715531 ],\n",
       "       [0.15257114, 0.8715531 ],\n",
       "       [0.13122374, 0.8558715 ],\n",
       "       [0.13122374, 0.8558715 ],\n",
       "       [0.15257114, 0.8715531 ],\n",
       "       [0.13122374, 0.8558715 ],\n",
       "       [0.13122374, 0.8558715 ],\n",
       "       [0.15257114, 0.8715531 ],\n",
       "       [0.04354317, 0.878423  ],\n",
       "       [0.04354317, 0.878423  ],\n",
       "       [0.03260783, 0.8715005 ],\n",
       "       [0.03260783, 0.8715005 ],\n",
       "       [0.03174236, 0.8716646 ],\n",
       "       [0.03260783, 0.8715005 ],\n",
       "       [0.03260783, 0.8715005 ],\n",
       "       [0.03174236, 0.8716646 ],\n",
       "       [0.1390592 , 0.8237274 ],\n",
       "       [0.27651605, 0.88284826]], dtype=float32)"
      ]
     },
     "execution_count": 59,
     "metadata": {},
     "output_type": "execute_result"
    }
   ],
   "source": [
    "preds"
   ]
  },
  {
   "cell_type": "code",
   "execution_count": 60,
   "metadata": {},
   "outputs": [
    {
     "name": "stdout",
     "output_type": "stream",
     "text": [
      "0.57692206\n",
      "0.12602878\n",
      "0.13379557\n",
      "0.5238571\n",
      "0.05975171\n",
      "0.15793416\n",
      "0.11477849\n",
      "0.11854348\n",
      "0.5843382\n",
      "0.10543628\n",
      "0.12250671\n",
      "0.1176019\n",
      "0.13453923\n",
      "0.1222726\n",
      "0.09318723\n",
      "0.10292932\n",
      "0.116198525\n",
      "0.36650962\n",
      "0.30395207\n",
      "0.07771814\n",
      "0.09131493\n",
      "0.09147952\n",
      "0.19129956\n",
      "0.092660256\n",
      "0.10748644\n",
      "0.14604637\n",
      "0.15243371\n",
      "0.34447908\n",
      "0.29276544\n",
      "0.15369967\n",
      "0.21257465\n",
      "0.09501802\n",
      "0.12321821\n",
      "0.100575626\n",
      "0.114020914\n",
      "0.14388266\n",
      "0.4641246\n",
      "0.12048225\n",
      "0.16208406\n",
      "0.059607547\n",
      "0.16713792\n",
      "0.38075534\n",
      "0.109211296\n",
      "0.091457695\n",
      "0.17892356\n",
      "0.08545668\n",
      "0.1364331\n",
      "0.10410172\n",
      "0.13834214\n",
      "0.17201316\n",
      "0.13048898\n",
      "0.16339718\n",
      "0.12705287\n",
      "0.14924145\n",
      "0.07087521\n",
      "0.10792687\n",
      "0.13091883\n",
      "0.10190159\n",
      "0.14196709\n",
      "0.08222022\n",
      "0.14035669\n",
      "0.27784613\n",
      "0.06779207\n",
      "0.090345606\n",
      "0.07587123\n",
      "0.104926795\n",
      "0.11437932\n",
      "0.06212948\n",
      "0.11136941\n",
      "0.22762096\n",
      "0.09412507\n",
      "0.08947917\n",
      "0.07526259\n",
      "0.11270237\n",
      "0.10783355\n",
      "0.14112222\n",
      "0.11588187\n",
      "0.1178604\n",
      "0.09317487\n",
      "0.09632214\n",
      "0.088077575\n",
      "0.09473478\n",
      "0.088614106\n",
      "0.13575779\n",
      "0.33840474\n",
      "0.15480037\n",
      "0.077222325\n",
      "0.13577873\n",
      "0.05864531\n",
      "0.16372517\n",
      "0.103084475\n",
      "0.17374721\n",
      "0.41716486\n",
      "0.20211871\n",
      "0.23212495\n",
      "0.1116652\n",
      "0.17571302\n",
      "0.22333921\n",
      "0.081386276\n",
      "0.111456074\n",
      "0.23182331\n",
      "0.069795504\n",
      "0.2117175\n",
      "0.1982226\n",
      "0.091107436\n",
      "0.11671599\n",
      "0.43526196\n",
      "0.102168605\n",
      "0.24449466\n",
      "0.45170143\n",
      "0.06904117\n",
      "0.5201225\n",
      "0.18751469\n",
      "0.1510612\n",
      "0.42567298\n",
      "0.10352295\n",
      "0.08618087\n",
      "0.18830274\n",
      "0.18868987\n",
      "0.087618805\n",
      "0.8496538\n",
      "0.8496538\n",
      "0.87296426\n",
      "0.87296426\n",
      "0.86629134\n",
      "0.8730283\n",
      "0.8730283\n",
      "0.86629134\n",
      "0.8848701\n",
      "0.8848701\n",
      "0.8838643\n",
      "0.8838643\n",
      "0.88535213\n",
      "0.8830598\n",
      "0.8830598\n",
      "0.88535213\n",
      "0.89595735\n",
      "0.89595735\n",
      "0.8867241\n",
      "0.8867241\n",
      "0.89617753\n",
      "0.893782\n",
      "0.893782\n",
      "0.89770144\n",
      "0.24703287\n",
      "0.76000357\n",
      "0.83595896\n",
      "0.8355976\n",
      "0.8701646\n",
      "0.8812086\n",
      "0.8812086\n",
      "0.8839936\n",
      "0.8839936\n",
      "0.8812086\n",
      "0.8839936\n",
      "0.8812086\n",
      "0.8715531\n",
      "0.8715531\n",
      "0.8558715\n",
      "0.8558715\n",
      "0.8715531\n",
      "0.8558715\n",
      "0.8558715\n",
      "0.8715531\n",
      "0.878423\n",
      "0.878423\n",
      "0.8715005\n",
      "0.8715005\n",
      "0.8716646\n",
      "0.8715005\n",
      "0.8715005\n",
      "0.8716646\n",
      "0.8237274\n",
      "0.88284826\n"
     ]
    }
   ],
   "source": [
    "k = np.array(preds)\n",
    "\n",
    "for i in range(len(k)):\n",
    "    print(k[i,1])"
   ]
  },
  {
   "cell_type": "code",
   "execution_count": 61,
   "metadata": {},
   "outputs": [
    {
     "ename": "ValueError",
     "evalue": "Found input variables with inconsistent numbers of samples: [174, 867]",
     "output_type": "error",
     "traceback": [
      "\u001b[1;31m---------------------------------------------------------------------------\u001b[0m",
      "\u001b[1;31mValueError\u001b[0m                                Traceback (most recent call last)",
      "\u001b[1;32m<ipython-input-61-05c79081340d>\u001b[0m in \u001b[0;36m<module>\u001b[1;34m\u001b[0m\n\u001b[0;32m      1\u001b[0m \u001b[1;32mimport\u001b[0m \u001b[0msklearn\u001b[0m\u001b[1;33m.\u001b[0m\u001b[0mmetrics\u001b[0m \u001b[1;32mas\u001b[0m \u001b[0mmetrics\u001b[0m\u001b[1;33m\u001b[0m\u001b[1;33m\u001b[0m\u001b[0m\n\u001b[1;32m----> 2\u001b[1;33m \u001b[0mfpr\u001b[0m\u001b[1;33m,\u001b[0m \u001b[0mtpr\u001b[0m\u001b[1;33m,\u001b[0m \u001b[0mthreshold\u001b[0m \u001b[1;33m=\u001b[0m \u001b[0mmetrics\u001b[0m\u001b[1;33m.\u001b[0m\u001b[0mroc_curve\u001b[0m\u001b[1;33m(\u001b[0m\u001b[0mtest\u001b[0m\u001b[1;33m.\u001b[0m\u001b[0mclasses\u001b[0m\u001b[1;33m,\u001b[0m \u001b[0my_pred_VCN\u001b[0m\u001b[1;33m)\u001b[0m\u001b[1;33m\u001b[0m\u001b[1;33m\u001b[0m\u001b[0m\n\u001b[0m\u001b[0;32m      3\u001b[0m \u001b[0mroc_auc\u001b[0m \u001b[1;33m=\u001b[0m \u001b[0mmetrics\u001b[0m\u001b[1;33m.\u001b[0m\u001b[0mauc\u001b[0m\u001b[1;33m(\u001b[0m\u001b[0mfpr\u001b[0m\u001b[1;33m,\u001b[0m \u001b[0mtpr\u001b[0m\u001b[1;33m)\u001b[0m\u001b[1;33m\u001b[0m\u001b[1;33m\u001b[0m\u001b[0m\n\u001b[0;32m      4\u001b[0m \u001b[1;32mimport\u001b[0m \u001b[0mmatplotlib\u001b[0m\u001b[1;33m.\u001b[0m\u001b[0mpyplot\u001b[0m \u001b[1;32mas\u001b[0m \u001b[0mplt\u001b[0m\u001b[1;33m\u001b[0m\u001b[1;33m\u001b[0m\u001b[0m\n\u001b[0;32m      5\u001b[0m \u001b[1;31m#plt.title('Receiver Operating Characteristic')\u001b[0m\u001b[1;33m\u001b[0m\u001b[1;33m\u001b[0m\u001b[1;33m\u001b[0m\u001b[0m\n",
      "\u001b[1;32mC:\\anaconda\\lib\\site-packages\\sklearn\\metrics\\_ranking.py\u001b[0m in \u001b[0;36mroc_curve\u001b[1;34m(y_true, y_score, pos_label, sample_weight, drop_intermediate)\u001b[0m\n\u001b[0;32m    960\u001b[0m \u001b[1;33m\u001b[0m\u001b[0m\n\u001b[0;32m    961\u001b[0m     \"\"\"\n\u001b[1;32m--> 962\u001b[1;33m     fps, tps, thresholds = _binary_clf_curve(\n\u001b[0m\u001b[0;32m    963\u001b[0m         \u001b[0my_true\u001b[0m\u001b[1;33m,\u001b[0m \u001b[0my_score\u001b[0m\u001b[1;33m,\u001b[0m \u001b[0mpos_label\u001b[0m\u001b[1;33m=\u001b[0m\u001b[0mpos_label\u001b[0m\u001b[1;33m,\u001b[0m \u001b[0msample_weight\u001b[0m\u001b[1;33m=\u001b[0m\u001b[0msample_weight\u001b[0m\u001b[1;33m\u001b[0m\u001b[1;33m\u001b[0m\u001b[0m\n\u001b[0;32m    964\u001b[0m     )\n",
      "\u001b[1;32mC:\\anaconda\\lib\\site-packages\\sklearn\\metrics\\_ranking.py\u001b[0m in \u001b[0;36m_binary_clf_curve\u001b[1;34m(y_true, y_score, pos_label, sample_weight)\u001b[0m\n\u001b[0;32m    731\u001b[0m         \u001b[1;32mraise\u001b[0m \u001b[0mValueError\u001b[0m\u001b[1;33m(\u001b[0m\u001b[1;34m\"{0} format is not supported\"\u001b[0m\u001b[1;33m.\u001b[0m\u001b[0mformat\u001b[0m\u001b[1;33m(\u001b[0m\u001b[0my_type\u001b[0m\u001b[1;33m)\u001b[0m\u001b[1;33m)\u001b[0m\u001b[1;33m\u001b[0m\u001b[1;33m\u001b[0m\u001b[0m\n\u001b[0;32m    732\u001b[0m \u001b[1;33m\u001b[0m\u001b[0m\n\u001b[1;32m--> 733\u001b[1;33m     \u001b[0mcheck_consistent_length\u001b[0m\u001b[1;33m(\u001b[0m\u001b[0my_true\u001b[0m\u001b[1;33m,\u001b[0m \u001b[0my_score\u001b[0m\u001b[1;33m,\u001b[0m \u001b[0msample_weight\u001b[0m\u001b[1;33m)\u001b[0m\u001b[1;33m\u001b[0m\u001b[1;33m\u001b[0m\u001b[0m\n\u001b[0m\u001b[0;32m    734\u001b[0m     \u001b[0my_true\u001b[0m \u001b[1;33m=\u001b[0m \u001b[0mcolumn_or_1d\u001b[0m\u001b[1;33m(\u001b[0m\u001b[0my_true\u001b[0m\u001b[1;33m)\u001b[0m\u001b[1;33m\u001b[0m\u001b[1;33m\u001b[0m\u001b[0m\n\u001b[0;32m    735\u001b[0m     \u001b[0my_score\u001b[0m \u001b[1;33m=\u001b[0m \u001b[0mcolumn_or_1d\u001b[0m\u001b[1;33m(\u001b[0m\u001b[0my_score\u001b[0m\u001b[1;33m)\u001b[0m\u001b[1;33m\u001b[0m\u001b[1;33m\u001b[0m\u001b[0m\n",
      "\u001b[1;32mC:\\anaconda\\lib\\site-packages\\sklearn\\utils\\validation.py\u001b[0m in \u001b[0;36mcheck_consistent_length\u001b[1;34m(*arrays)\u001b[0m\n\u001b[0;32m    330\u001b[0m     \u001b[0muniques\u001b[0m \u001b[1;33m=\u001b[0m \u001b[0mnp\u001b[0m\u001b[1;33m.\u001b[0m\u001b[0munique\u001b[0m\u001b[1;33m(\u001b[0m\u001b[0mlengths\u001b[0m\u001b[1;33m)\u001b[0m\u001b[1;33m\u001b[0m\u001b[1;33m\u001b[0m\u001b[0m\n\u001b[0;32m    331\u001b[0m     \u001b[1;32mif\u001b[0m \u001b[0mlen\u001b[0m\u001b[1;33m(\u001b[0m\u001b[0muniques\u001b[0m\u001b[1;33m)\u001b[0m \u001b[1;33m>\u001b[0m \u001b[1;36m1\u001b[0m\u001b[1;33m:\u001b[0m\u001b[1;33m\u001b[0m\u001b[1;33m\u001b[0m\u001b[0m\n\u001b[1;32m--> 332\u001b[1;33m         raise ValueError(\n\u001b[0m\u001b[0;32m    333\u001b[0m             \u001b[1;34m\"Found input variables with inconsistent numbers of samples: %r\"\u001b[0m\u001b[1;33m\u001b[0m\u001b[1;33m\u001b[0m\u001b[0m\n\u001b[0;32m    334\u001b[0m             \u001b[1;33m%\u001b[0m \u001b[1;33m[\u001b[0m\u001b[0mint\u001b[0m\u001b[1;33m(\u001b[0m\u001b[0ml\u001b[0m\u001b[1;33m)\u001b[0m \u001b[1;32mfor\u001b[0m \u001b[0ml\u001b[0m \u001b[1;32min\u001b[0m \u001b[0mlengths\u001b[0m\u001b[1;33m]\u001b[0m\u001b[1;33m\u001b[0m\u001b[1;33m\u001b[0m\u001b[0m\n",
      "\u001b[1;31mValueError\u001b[0m: Found input variables with inconsistent numbers of samples: [174, 867]"
     ]
    }
   ],
   "source": [
    "import sklearn.metrics as metrics\n",
    "fpr, tpr, threshold = metrics.roc_curve(test.classes, y_pred_VCN)\n",
    "roc_auc = metrics.auc(fpr, tpr)\n",
    "import matplotlib.pyplot as plt\n",
    "#plt.title('Receiver Operating Characteristic')\n",
    "plt.plot(fpr, tpr, 'b', label = 'AUC_CCN = %0.3f' % roc_auc)\n",
    "plt.legend(loc = 'lower right')\n",
    "plt.plot([0, 1], [0, 1],'k--')\n",
    "# plt.xlim([0, 1])\n",
    "# plt.ylim([0, 1])\n",
    "plt.ylabel('True Positive Rate')\n",
    "plt.xlabel('False Positive Rate')\n",
    "#plt.title('ROC curve_CCN')\n",
    "\n",
    "plt.show()"
   ]
  }
 ],
 "metadata": {
  "kernelspec": {
   "display_name": "Python 3",
   "language": "python",
   "name": "python3"
  },
  "language_info": {
   "codemirror_mode": {
    "name": "ipython",
    "version": 3
   },
   "file_extension": ".py",
   "mimetype": "text/x-python",
   "name": "python",
   "nbconvert_exporter": "python",
   "pygments_lexer": "ipython3",
   "version": "3.8.5"
  }
 },
 "nbformat": 4,
 "nbformat_minor": 4
}
